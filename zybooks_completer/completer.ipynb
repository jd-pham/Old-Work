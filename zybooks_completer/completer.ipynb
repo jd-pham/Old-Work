{
 "cells": [
  {
   "cell_type": "code",
   "execution_count": 5,
   "metadata": {},
   "outputs": [],
   "source": [
    "from selenium import webdriver\n",
    "\n",
    "from selenium.webdriver.common.by import By\n",
    "from selenium.webdriver.common.keys import Keys\n",
    "from selenium.webdriver.common.action_chains import ActionChains\n",
    "\n",
    "from selenium.webdriver.support.ui import Select, WebDriverWait\n",
    "from selenium.webdriver.support import expected_conditions as cond\n",
    "\n",
    "from selenium.common.exceptions import ElementClickInterceptedException, StaleElementReferenceException, TimeoutException, NoSuchElementException\n",
    "\n",
    "from selenium.webdriver.chrome.options import Options\n",
    "from selenium.webdriver.chrome.service import Service\n",
    "\n",
    "from webdriver_manager.chrome import ChromeDriverManager\n",
    "\n",
    "import re\n",
    "\n",
    "\n",
    "\n",
    "from dotenv import load_dotenv\n",
    "from pathlib import Path\n",
    "import os\n",
    "from collections import deque\n",
    "\n",
    "\n",
    "import time"
   ]
  },
  {
   "cell_type": "code",
   "execution_count": 8,
   "metadata": {},
   "outputs": [],
   "source": [
    "'''\n",
    "Load user and password, double checks path\n",
    "'''\n",
    "\n",
    "path = f'{os.getcwd()}/.env'\n",
    "load_dotenv(dotenv_path = path)\n",
    "\n",
    "user = os.getenv('CLIENT_USER')\n",
    "passwrd = os.getenv('CLIENT_PASS')"
   ]
  },
  {
   "cell_type": "code",
   "execution_count": 9,
   "metadata": {},
   "outputs": [
    {
     "name": "stderr",
     "output_type": "stream",
     "text": [
      "[WDM] - Downloading: 100%|██████████| 6.80M/6.80M [00:01<00:00, 7.05MB/s]\n"
     ]
    }
   ],
   "source": [
    "driver = webdriver.Chrome(service=Service(ChromeDriverManager().install()))\n",
    "driver.get('https://learn.zybooks.com/zybook/GSUCSC1302Spring2023')"
   ]
  },
  {
   "cell_type": "code",
   "execution_count": 10,
   "metadata": {},
   "outputs": [
    {
     "ename": "TypeError",
     "evalue": "object of type 'NoneType' has no len()",
     "output_type": "error",
     "traceback": [
      "\u001b[1;31m---------------------------------------------------------------------------\u001b[0m",
      "\u001b[1;31mTypeError\u001b[0m                                 Traceback (most recent call last)",
      "Cell \u001b[1;32mIn[10], line 10\u001b[0m\n\u001b[0;32m      1\u001b[0m \u001b[39m# Block to sign in to zybooks\u001b[39;00m\n\u001b[0;32m      2\u001b[0m \n\u001b[0;32m      3\u001b[0m \n\u001b[0;32m      4\u001b[0m \u001b[39m# Select and type in user email into text box\u001b[39;00m\n\u001b[0;32m      5\u001b[0m user_email \u001b[39m=\u001b[39m WebDriverWait(driver, \u001b[39m20\u001b[39m)\u001b[39m.\u001b[39muntil(\n\u001b[0;32m      6\u001b[0m     cond\u001b[39m.\u001b[39melement_to_be_clickable(\n\u001b[0;32m      7\u001b[0m         (By\u001b[39m.\u001b[39mXPATH, \u001b[39m'\u001b[39m\u001b[39m//*[@id=\u001b[39m\u001b[39m\"\u001b[39m\u001b[39member8\u001b[39m\u001b[39m\"\u001b[39m\u001b[39m]\u001b[39m\u001b[39m'\u001b[39m)\n\u001b[0;32m      8\u001b[0m     )\n\u001b[0;32m      9\u001b[0m )\n\u001b[1;32m---> 10\u001b[0m user_email\u001b[39m.\u001b[39;49msend_keys(user)\n\u001b[0;32m     12\u001b[0m \u001b[39m# Select and type in user password into text box\u001b[39;00m\n\u001b[0;32m     13\u001b[0m user_pass \u001b[39m=\u001b[39m WebDriverWait(driver, \u001b[39m20\u001b[39m)\u001b[39m.\u001b[39muntil(\n\u001b[0;32m     14\u001b[0m     cond\u001b[39m.\u001b[39melement_to_be_clickable(\n\u001b[0;32m     15\u001b[0m         (By\u001b[39m.\u001b[39mXPATH, \u001b[39m'\u001b[39m\u001b[39m//*[@id=\u001b[39m\u001b[39m\"\u001b[39m\u001b[39member10\u001b[39m\u001b[39m\"\u001b[39m\u001b[39m]\u001b[39m\u001b[39m'\u001b[39m)\n\u001b[0;32m     16\u001b[0m     )\n\u001b[0;32m     17\u001b[0m )\n",
      "File \u001b[1;32m~\\AppData\\Roaming\\Python\\Python310\\site-packages\\selenium\\webdriver\\remote\\webelement.py:232\u001b[0m, in \u001b[0;36mWebElement.send_keys\u001b[1;34m(self, *value)\u001b[0m\n\u001b[0;32m    228\u001b[0m             remote_files\u001b[39m.\u001b[39mappend(\u001b[39mself\u001b[39m\u001b[39m.\u001b[39m_upload(file))\n\u001b[0;32m    229\u001b[0m         value \u001b[39m=\u001b[39m \u001b[39m\"\u001b[39m\u001b[39m\\n\u001b[39;00m\u001b[39m\"\u001b[39m\u001b[39m.\u001b[39mjoin(remote_files)\n\u001b[0;32m    231\u001b[0m \u001b[39mself\u001b[39m\u001b[39m.\u001b[39m_execute(\n\u001b[1;32m--> 232\u001b[0m     Command\u001b[39m.\u001b[39mSEND_KEYS_TO_ELEMENT, {\u001b[39m\"\u001b[39m\u001b[39mtext\u001b[39m\u001b[39m\"\u001b[39m: \u001b[39m\"\u001b[39m\u001b[39m\"\u001b[39m\u001b[39m.\u001b[39mjoin(keys_to_typing(value)), \u001b[39m\"\u001b[39m\u001b[39mvalue\u001b[39m\u001b[39m\"\u001b[39m: keys_to_typing(value)}\n\u001b[0;32m    233\u001b[0m )\n",
      "File \u001b[1;32m~\\AppData\\Roaming\\Python\\Python310\\site-packages\\selenium\\webdriver\\common\\utils.py:140\u001b[0m, in \u001b[0;36mkeys_to_typing\u001b[1;34m(value)\u001b[0m\n\u001b[0;32m    138\u001b[0m             _typing\u001b[39m.\u001b[39mappend(val[i])\n\u001b[0;32m    139\u001b[0m     \u001b[39melse\u001b[39;00m:\n\u001b[1;32m--> 140\u001b[0m         \u001b[39mfor\u001b[39;00m i \u001b[39min\u001b[39;00m \u001b[39mrange\u001b[39m(\u001b[39mlen\u001b[39;49m(val)):\n\u001b[0;32m    141\u001b[0m             _typing\u001b[39m.\u001b[39mappend(val[i])\n\u001b[0;32m    142\u001b[0m \u001b[39mreturn\u001b[39;00m _typing\n",
      "\u001b[1;31mTypeError\u001b[0m: object of type 'NoneType' has no len()"
     ]
    }
   ],
   "source": [
    "'''\n",
    "Block used to login faster, doesn't work anymore. Must login manually after bot browser opens up.\n",
    "'''\n",
    "\n",
    "\n",
    "# Select and type in user email into text box\n",
    "user_email = WebDriverWait(driver, 20).until(\n",
    "    cond.element_to_be_clickable(\n",
    "        (By.XPATH, '//*[@id=\"ember8\"]')\n",
    "    )\n",
    ")\n",
    "user_email.send_keys(user)\n",
    "\n",
    "# Select and type in user password into text box\n",
    "user_pass = WebDriverWait(driver, 20).until(\n",
    "    cond.element_to_be_clickable(\n",
    "        (By.XPATH, '//*[@id=\"ember10\"]')\n",
    "    )\n",
    ")\n",
    "user_pass.send_keys(passwrd)\n",
    "\n",
    "# Click signin button\n",
    "sign_in = WebDriverWait(driver, 20).until(\n",
    "    cond.element_to_be_clickable(\n",
    "        (By.XPATH, '//*[@id=\"ember6\"]/div/div[3]/button')\n",
    "    )\n",
    ")\n",
    "sign_in.click()"
   ]
  },
  {
   "cell_type": "code",
   "execution_count": null,
   "metadata": {},
   "outputs": [],
   "source": [
    "'''\n",
    "boolean function to check if a problem is completed on a specific webpage.\n",
    "'''\n",
    "def is_completed(selenium_element):\n",
    "    try:\n",
    "        selenium_element.find_element(By.CLASS_NAME, 'zb-chevron.title-bar-chevron.grey.chevron-outline.large')   # check to see if element is completed\n",
    "        return False\n",
    "    except (NoSuchElementException) as e:\n",
    "        return True\n",
    "    "
   ]
  },
  {
   "cell_type": "code",
   "execution_count": null,
   "metadata": {},
   "outputs": [],
   "source": [
    "'''\n",
    "Clicks all radio buttons for every multi-choice question\n",
    "\n",
    "'''\n",
    "\n",
    "def complete_MCQ(driver):\n",
    "    # a block refers to a single problem set on the current page\n",
    "    activity_blocks = driver.find_elements(By.CLASS_NAME, 'interactive-activity-container.multiple-choice-content-resource.participation.large.ember-view')\n",
    "    \n",
    "    # clicks every possible radio button. If the correct answer is selected once, it is marked as correct permanently.\n",
    "    for blocks in activity_blocks:\n",
    "        choice_list = blocks.find_elements(By.TAG_NAME, 'input')\n",
    "        for choice in choice_list:\n",
    "            choice.send_keys(Keys.RETURN)\n",
    "            "
   ]
  },
  {
   "cell_type": "code",
   "execution_count": null,
   "metadata": {},
   "outputs": [],
   "source": [
    "# used to run examples for completion, doesn't work usually. \n",
    "def run_all_examples(driver):\n",
    "    button_list = driver.find_elements(By.CLASS_NAME, 'run-button-container')\n",
    "    for containers in button_list:\n",
    "        btn = containers.find_element(By.TAG_NAME, 'button')\n",
    "        btn.send_keys(Keys.RETURN)\n",
    "        "
   ]
  },
  {
   "cell_type": "code",
   "execution_count": null,
   "metadata": {},
   "outputs": [],
   "source": [
    "# supposed to click the Next button to progress the example program, doesn't work most of the time\n",
    "def complete_step_program(driver):\n",
    "    activity_blocks = driver.find_elements(By.CLASS_NAME, 'interactive-activity-container.animation-player-content-resource.participation.large.ember-view')\n",
    "\n",
    "    for blocks in activity_blocks:\n",
    "        finished = is_completed(blocks)\n",
    "        if finished:\n",
    "            continue\n",
    "        start_button = WebDriverWait(blocks, 5).until(\n",
    "            cond.element_to_be_clickable(\n",
    "                (By.CLASS_NAME, 'title')\n",
    "            )\n",
    "        )\n",
    "        start_button.click()\n",
    "\n",
    "        while not finished:            \n",
    "            finished = is_completed(blocks)\n",
    "            play_btn = WebDriverWait(blocks, 60).until(\n",
    "                cond.element_to_be_clickable(\n",
    "                    (By.CLASS_NAME, 'play-button.bounce')\n",
    "                )\n",
    "            )\n",
    "            play_btn.click()\n",
    "            finished = is_completed(blocks)\n",
    "        \n",
    "        "
   ]
  },
  {
   "cell_type": "code",
   "execution_count": null,
   "metadata": {},
   "outputs": [],
   "source": [
    "# clicks 'show answer' then enters the correct answer\n",
    "\n",
    "def complete_short_answers(driver):          \n",
    "    activity_block = driver.find_elements(By.CLASS_NAME, \"interactive-activity-container.short-answer-content-resource.participation.large.ember-view\")\n",
    "\n",
    "    for blocks in activity_block:\n",
    "        question_list = blocks.find_elements(By.CLASS_NAME, \"question-set-question.short-answer-question.ember-view\")        \n",
    "        \n",
    "        # clicks all \"show me answer\" buttons on the page\n",
    "        for questions in question_list:\n",
    "            btn = questions.find_element(By.CLASS_NAME, 'zb-button.secondary.show-answer-button') # must be clicked twice to reveal answer\n",
    "            btn.click()\n",
    "            btn.click()\n",
    "        \n",
    "        # grabs the revealed answer and types it in\n",
    "        for questions in question_list:\n",
    "            ans = questions.find_element(By.CLASS_NAME, 'forfeit-answer')\n",
    "            text_box = questions.find_element(By.TAG_NAME, 'textarea')\n",
    "            text_box.send_keys(ans.text)\n",
    "        \n",
    "        # submits final answer for all questions\n",
    "        for questions in question_list:\n",
    "            btn = questions.find_element(By.CLASS_NAME, 'zb-button.primary.raised.check-button')\n",
    "            btn.click()\n",
    "            \n"
   ]
  },
  {
   "cell_type": "code",
   "execution_count": null,
   "metadata": {},
   "outputs": [],
   "source": [
    "\n",
    "def check_assignment_list(driver):\n",
    "    try:\n",
    "        back_btn = driver.find_element(By.CLASS_NAME, 'zb-button.secondary.left.icon-button-with-title.mr-auto')\n",
    "        back_btn.click()\n",
    "    except (NoSuchElementException) as e:\n",
    "        return True"
   ]
  },
  {
   "cell_type": "code",
   "execution_count": null,
   "metadata": {},
   "outputs": [],
   "source": [
    "'''\n",
    "Loads assignments present on the web page based on the current state of the home page, and the entered hw number.\n",
    "Class HW was typically titled \"HW{assignment number}\"\n",
    "\n",
    "'''\n",
    "def load_assignments(driver, homework_number):\n",
    "    tabs = driver.find_element(By.CLASS_NAME, 'tabs')\n",
    "    btn = tabs.find_elements(By.TAG_NAME, 'button')\n",
    "    btn[2].click()\n",
    "    \n",
    "    found = False\n",
    "    check_assignment_list(driver=driver)\n",
    "    homework_list = driver.find_elements(By.CLASS_NAME, 'assignment-summary.p-2.flex.justify-between')\n",
    "    for hw in homework_list:\n",
    "        hw_title = re.search(r'(?<=HomeWork )\\d', hw.text, flags=re.I)\n",
    "        hw_title = hw_title.group()\n",
    "        if int(hw_title) == homework_number:\n",
    "            hw.click()\n",
    "            found = True\n",
    "            break\n",
    "    \n",
    "    if not found:\n",
    "        raise Exception('Could not find homework')\n",
    "    \n",
    "    assignments = driver.find_elements(By.CLASS_NAME, 'flex.items-center.mb-2')\n",
    "    \n",
    "    # loads subchapter links into a single list\n",
    "    links = []\n",
    "    for subchapters in assignments:\n",
    "        href_container = subchapters.find_element(By.TAG_NAME, 'a')\n",
    "        href = href_container.get_attribute('href')\n",
    "        links.append(href)\n",
    "    return links"
   ]
  },
  {
   "cell_type": "code",
   "execution_count": null,
   "metadata": {},
   "outputs": [],
   "source": [
    "assignment_links = load_assignments(driver, 2)  # load in assignment pages for a specific homework  "
   ]
  },
  {
   "cell_type": "code",
   "execution_count": null,
   "metadata": {},
   "outputs": [],
   "source": [
    "i = 0   # set i so that I can restart the while loop at the correct position if required"
   ]
  },
  {
   "cell_type": "code",
   "execution_count": null,
   "metadata": {},
   "outputs": [
    {
     "name": "stdout",
     "output_type": "stream",
     "text": [
      "35\n",
      "36\n",
      "38\n",
      "40\n",
      "46\n",
      "47\n",
      "48\n",
      "49\n",
      "51\n",
      "52\n",
      "53\n",
      "54\n"
     ]
    }
   ],
   "source": [
    "# While loop to go through assignment links\n",
    "while i < len(assignment_links):\n",
    "    try:\n",
    "        driver.get(assignment_links[i])\n",
    "        time.sleep(5)\n",
    "        complete_short_answers(driver)\n",
    "        complete_MCQ(driver)\n",
    "        complete_step_program(driver)\n",
    "    except:\n",
    "        # except block to continue looping instead of breaking \n",
    "        print(i)\n",
    "    time.sleep(15)\n",
    "    \n",
    "    i += 1\n"
   ]
  }
 ],
 "metadata": {
  "kernelspec": {
   "display_name": "base",
   "language": "python",
   "name": "python3"
  },
  "language_info": {
   "codemirror_mode": {
    "name": "ipython",
    "version": 3
   },
   "file_extension": ".py",
   "mimetype": "text/x-python",
   "name": "python",
   "nbconvert_exporter": "python",
   "pygments_lexer": "ipython3",
   "version": "3.10.9"
  },
  "orig_nbformat": 4,
  "vscode": {
   "interpreter": {
    "hash": "2796f898c241be261d17d4440712f4c58a6e72713839fe7ec4d10cc08aa00573"
   }
  }
 },
 "nbformat": 4,
 "nbformat_minor": 2
}
