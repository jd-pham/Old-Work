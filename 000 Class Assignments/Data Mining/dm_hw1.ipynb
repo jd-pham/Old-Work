{
 "cells": [
  {
   "cell_type": "code",
   "execution_count": 3,
   "metadata": {},
   "outputs": [],
   "source": [
    "import numpy as np\n",
    "import pandas as pd\n",
    "from matplotlib import pyplot as plt\n",
    "from scipy import spatial\n",
    "import scipy.stats"
   ]
  },
  {
   "cell_type": "code",
   "execution_count": 4,
   "metadata": {},
   "outputs": [],
   "source": [
    "# Function to find the mode in a given array using a dictionary to count their frequency.\n",
    "def mode(array: list) -> int:\n",
    "    freq = dict()  \n",
    "    for i in array:\n",
    "        if i in freq:\n",
    "            freq[i] += 1\n",
    "        else:\n",
    "            freq[i] = 1\n",
    "    \n",
    "    return max(freq, key=freq.get) # return key based on the highest value (k:v pair)\n",
    "\n",
    "\n",
    "\n",
    "# Calculates relevant summary statistics for a given array\n",
    "def summary_stats(array: list) -> int:\n",
    "    mean = np.mean(array)\t\n",
    "    median = np.median(array)\n",
    "    mode_arr = mode(array)\n",
    "    \n",
    "    min_arr = min(array)\n",
    "    max_arr = max(array)\n",
    "    quartiles = np.percentile(array, [25, 75]) # finds 1st and 3rd quartile of the array, 25% and 75% respectively.\n",
    "\n",
    "    print(f'mean: {mean}\\nmedian: {median}\\nmode: {mode_arr}\\n')\n",
    "    print(f'lower quartile: {quartiles[0]}\\nupper quartile: {quartiles[1]}\\nmin: {min_arr}\\nmax: {max_arr}\\n')\n",
    "\n",
    "\n",
    "\n",
    "# Finds outliers in an array based on 1.5 * IQR rule\n",
    "def find_outliers(array: list):\n",
    "    quartiles = np.percentile(array, [25, 75])\t# get 1st and 3rd quartile for calculations\n",
    "    iqr = (quartiles[1] - quartiles[0])\t# IQR = 3rd Quartile - 1st Quartile\n",
    "  \t\n",
    "    lower = quartiles[0] - iqr # lowest value before it could be considered an outlier\n",
    "    upper = quartiles[1] + iqr # highest value before it becomes an outlier\n",
    "\n",
    "    outliers = [elem for elem in array if elem < lower or elem > upper] # find all (elements < lower) or (elements > upper)\n",
    "    print(outliers)\n",
    "\n",
    "\n",
    "\n",
    "# Function to compare similarities between two entries, based on binary attributes\n",
    "def find_binary_similarity(df: pd.DataFrame, col1, col2):\n",
    "    new_df = pd.DataFrame([df[col1], df[col2]]).transpose()\t# Transpose to traverse easier\n",
    "\n",
    "    cnt = 0\t# count of similarities\n",
    "    for rows in new_df.index:\n",
    "        if new_df[col1][rows] == new_df[col2][rows]: # check if they have a matching attribute\n",
    "            cnt += 1\n",
    "\n",
    "    print(new_df, '\\n') \n",
    "    print(f'Similarity between {col1} and {col2}: {cnt / len(new_df.index)}\\n')\n",
    "\n",
    "\n",
    "\n",
    "# Normalize data in a given array using its min & max values\n",
    "def normalization(array: list):\n",
    "    lower = max(array) - min(array)\n",
    "    arr_min = min(array)\n",
    "    ret = []\n",
    "    for i in array:\n",
    "        ret += [(i - arr_min) / lower]\n",
    "\n",
    "    print(ret)"
   ]
  },
  {
   "cell_type": "code",
   "execution_count": 5,
   "metadata": {},
   "outputs": [
    {
     "name": "stdout",
     "output_type": "stream",
     "text": [
      "mean: 31.2\n",
      "median: 27.0\n",
      "mode: 27\n",
      "\n",
      "lower quartile: 25.5\n",
      "upper quartile: 34.0\n",
      "min: 18\n",
      "max: 53\n",
      "\n"
     ]
    }
   ],
   "source": [
    "age = [46,25,27,27,28,36,53,27,18,25]\n",
    "summary_stats(age)"
   ]
  },
  {
   "cell_type": "code",
   "execution_count": 6,
   "metadata": {},
   "outputs": [
    {
     "name": "stdout",
     "output_type": "stream",
     "text": [
      "mean: 71.83333333333334\n",
      "median: 72.6\n",
      "mode: 52.3\n",
      "\n",
      "lower quartile: 61.85\n",
      "upper quartile: 83.25\n",
      "min: 52.3\n",
      "max: 89.1\n",
      "\n",
      "21.4\n",
      "[]\n"
     ]
    }
   ],
   "source": [
    "temp = [52.3,56.6,64.6,72.5,79.9,86.4,89.1,88.1,82.2,72.7,63.6,54.0]\n",
    "summary_stats(temp)\n",
    "find_outliers(temp)"
   ]
  },
  {
   "cell_type": "code",
   "execution_count": 7,
   "metadata": {},
   "outputs": [
    {
     "data": {
      "text/plain": [
       "{'whiskers': [<matplotlib.lines.Line2D at 0x7fa58d1bf730>,\n",
       "  <matplotlib.lines.Line2D at 0x7fa58d1bfa00>],\n",
       " 'caps': [<matplotlib.lines.Line2D at 0x7fa58d1bfd90>,\n",
       "  <matplotlib.lines.Line2D at 0x7fa58d1bffa0>],\n",
       " 'boxes': [<matplotlib.lines.Line2D at 0x7fa58d1bf460>],\n",
       " 'medians': [<matplotlib.lines.Line2D at 0x7fa58d1c32b0>],\n",
       " 'fliers': [<matplotlib.lines.Line2D at 0x7fa58d1c3580>],\n",
       " 'means': []}"
      ]
     },
     "execution_count": 7,
     "metadata": {},
     "output_type": "execute_result"
    },
    {
     "data": {
      "image/png": "[encoded data removed]",
      "text/plain": [
       "<Figure size 432x288 with 1 Axes>"
      ]
     },
     "metadata": {
      "needs_background": "light"
     },
     "output_type": "display_data"
    }
   ],
   "source": [
    "plt.boxplot(temp)"
   ]
  },
  {
   "cell_type": "code",
   "execution_count": 9,
   "metadata": {},
   "outputs": [
    {
     "name": "stdout",
     "output_type": "stream",
     "text": [
      "              David     Susan\n",
      "Customer                     \n",
      "Profession  Manager   Manager\n",
      "Education     B.Sc.     B.Sc.\n",
      "Hobbies        Golf  Swimming \n",
      "\n",
      "Similarity between David and Susan: 0.6666666666666666\n",
      "\n",
      "               Susan        Lisa\n",
      "Customer                        \n",
      "Profession   Manager  Programmer\n",
      "Education      B.Sc.       M.Sc.\n",
      "Hobbies     Swimming    Swimming \n",
      "\n",
      "Similarity between Susan and Lisa: 0.3333333333333333\n",
      "\n"
     ]
    }
   ],
   "source": [
    "customers = [\n",
    "[\"Customer\",\"David\",\"Susan\",\"Lisa\"], \n",
    "[\"Profession\",\"Manager\",\"Manager\",\"Programmer\"], \n",
    "[\"Education\",\"B.Sc.\",\"B.Sc.\",\"M.Sc.\"], \n",
    "[\"Hobbies\",\"Golf\",\"Swimming\",\"Swimming\"], \n",
    "]\n",
    "\n",
    "customers = pd.DataFrame(customers, columns=customers[0])\n",
    "customers = customers.drop([0])\n",
    "customers.set_index(customers.columns[0], inplace=True)\n",
    "\n",
    "find_binary_similarity(customers, \"David\", \"Susan\")\n",
    "find_binary_similarity(customers, \"Susan\", \"Lisa\")"
   ]
  },
  {
   "cell_type": "code",
   "execution_count": 10,
   "metadata": {},
   "outputs": [
    {
     "name": "stdout",
     "output_type": "stream",
     "text": [
      "              Tom  Mat\n",
      "Patient               \n",
      "Fever         Yes   No\n",
      "Cough          No  Yes\n",
      "Sleepy        Yes   No\n",
      "Headache      Yes  Yes\n",
      "Running nose  Yes  Yes\n",
      "Fatigue       Yes  Yes\n",
      "Sweaty        Yes   No\n",
      "Dizziness     Yes  Yes \n",
      "\n",
      "Similarity between Tom and Mat: 0.5\n",
      "\n",
      "              Mat Lucy\n",
      "Patient               \n",
      "Fever          No  Yes\n",
      "Cough         Yes  Yes\n",
      "Sleepy         No   No\n",
      "Headache      Yes   No\n",
      "Running nose  Yes   No\n",
      "Fatigue       Yes  Yes\n",
      "Sweaty         No  Yes\n",
      "Dizziness     Yes  Yes \n",
      "\n",
      "Similarity between Mat and Lucy: 0.5\n",
      "\n"
     ]
    }
   ],
   "source": [
    "patients = [\n",
    "    [\"Patient\",\"Tom\",\"Mat\",\"Lucy\"],\n",
    "    [\"Fever\",\"Yes\",\"No\",\"Yes\"],\n",
    "    [\"Cough\",\"No\",\"Yes\",\"Yes\"],\n",
    "    [\"Sleepy\",\"Yes\",\"No\",\"No\"],\n",
    "    [\"Headache\",\"Yes\",\"Yes\",\"No\"],\n",
    "    [\"Running nose\",\"Yes\",\"Yes\",\"No\"],\n",
    "    [\"Fatigue\",\"Yes\",\"Yes\",\"Yes\"],\n",
    "    [\"Sweaty\",\"Yes\",\"No\",\"Yes\"],\n",
    "    [\"Dizziness\",\"Yes\",\"Yes\",\"Yes\"],\n",
    "    ]\n",
    "\n",
    "patients = pd.DataFrame(patients, columns=patients[0])\n",
    "patients.drop([0], inplace=True)\n",
    "patients.set_index(patients.columns[0], inplace=True)\n",
    "\n",
    "find_binary_similarity(patients, \"Tom\", \"Mat\")\n",
    "find_binary_similarity(patients, \"Mat\", \"Lucy\")"
   ]
  },
  {
   "cell_type": "code",
   "execution_count": 11,
   "metadata": {},
   "outputs": [
    {
     "name": "stdout",
     "output_type": "stream",
     "text": [
      "(0.7865910725616965, 0.21340892743830353) \n",
      "\n",
      "(0.8331186986778341, 0.16688130132216594)\n"
     ]
    }
   ],
   "source": [
    "flowers = [\n",
    "    [\"Flower\",\"A\",\"B\",\"C\"],\n",
    "    [\"Sepal Length\",5.1,7.0,4.8],\n",
    "    [\"Sepal Width\",3.5,3.2,3.4],\n",
    "    [\"Petal Length\",1.4,4.7,1.9],\n",
    "    [\"Petal Width\",0.2,1.4,0.2],\n",
    "    ]\n",
    "flowers = pd.DataFrame(flowers, columns=[flowers[0]])\n",
    "flowers.drop([0], inplace=True)\n",
    "flowers.set_index(flowers.columns[0], inplace=True)\n",
    "flowers = flowers.T\n",
    "attributes = [\"Sepal Length\", \"Sepal Width\", 'Petal Length', 'Petal Width']\n",
    "\n",
    "x = flowers.loc['A'].values[0]\n",
    "y = flowers.loc['B'].values[0]\n",
    "z = flowers.loc['C'].values[0]\n",
    "\n",
    "arr1 = [i for i in x]\n",
    "arr2 = [i for i in y]\n",
    "arr3 = [i for i in z]\n",
    "\n",
    "print(scipy.stats.pearsonr(arr1, arr2), '\\n')\n",
    "print(scipy.stats.pearsonr(arr2, arr3))\n"
   ]
  },
  {
   "cell_type": "code",
   "execution_count": 12,
   "metadata": {},
   "outputs": [
    {
     "name": "stdout",
     "output_type": "stream",
     "text": [
      "Kevin & John: 0.9591207598431705\n",
      "Daniel & John: 0.9805923376571336\n"
     ]
    }
   ],
   "source": [
    "loan_info = [    \n",
    "    [\"Customer\",\"Kevin\",\"John\",\"Daniel\"],\n",
    "    [\"Credit Score Range\",5/5, 4/5, 3/5],\n",
    "    [\"Salary Range\", 3/4, 4/4, 2/4],\n",
    "    [\"Age\", 3/3, 2/3, 1/3],\n",
    "]\n",
    "\n",
    "loan_info = pd.DataFrame(loan_info, columns=[loan_info[0]])\n",
    "loan_info.drop([0], inplace=True)\n",
    "loan_info.set_index(loan_info.columns[0], inplace=True)\n",
    "\n",
    "res_kj = 1 - spatial.distance.cosine(loan_info['Kevin'], loan_info['John'])\n",
    "res_dj = 1 - spatial.distance.cosine(loan_info['Daniel'], loan_info['John'])\n",
    "\n",
    "print(f\"Kevin & John: {res_kj}\")\n",
    "print(f\"Daniel & John: {res_dj}\")"
   ]
  },
  {
   "cell_type": "code",
   "execution_count": 14,
   "metadata": {},
   "outputs": [
    {
     "name": "stdout",
     "output_type": "stream",
     "text": [
      "[0.4615384615384617, 0.8461538461538461, 0.0, 1.0]\n"
     ]
    }
   ],
   "source": [
    "list1 = [5.7, 6.2, 5.1, 6.4]\n",
    "normalization(list1)"
   ]
  }
 ],
 "metadata": {
  "kernelspec": {
   "display_name": "Python 3.9.12 ('base')",
   "language": "python",
   "name": "python3"
  },
  "language_info": {
   "codemirror_mode": {
    "name": "ipython",
    "version": 3
   },
   "file_extension": ".py",
   "mimetype": "text/x-python",
   "name": "python",
   "nbconvert_exporter": "python",
   "pygments_lexer": "ipython3",
   "version": "3.9.12"
  },
  "orig_nbformat": 4,
  "vscode": {
   "interpreter": {
    "hash": "fe25843eb33f8f8867156e9f95621f8946a2466eadffe72e95d7b35dba9a389d"
   }
  }
 },
 "nbformat": 4,
 "nbformat_minor": 2
}
