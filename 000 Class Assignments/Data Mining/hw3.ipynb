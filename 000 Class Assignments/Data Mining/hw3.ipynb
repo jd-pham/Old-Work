{
 "cells": [
  {
   "cell_type": "code",
   "execution_count": 1,
   "metadata": {},
   "outputs": [],
   "source": [
    "import numpy as np"
   ]
  },
  {
   "cell_type": "code",
   "execution_count": 68,
   "metadata": {},
   "outputs": [],
   "source": [
    "class Page_Rank:\n",
    "    def __init__(self, data_set: dict):        \n",
    "        self.size = len(data_set)\n",
    "        self.data_set = data_set\n",
    "        self.adj_list = self.create_adj()\n",
    "\n",
    "        \n",
    "    def create_adj(self):\n",
    "        adj = [[0 for i in range(n)] for j in range(n)]\n",
    "        \n",
    "        for node, lst in self.data_set.items():\n",
    "            for elem in lst:\n",
    "                adj[node-1][elem-1] += 1\n",
    "\n",
    "        return adj\n",
    "\n",
    "\n",
    "    def create_transition(self):\n",
    "        transition = self.adj_list\n",
    "\n",
    "        for i, row in enumerate(transition):\n",
    "            for j, elem in enumerate(row):\n",
    "                transition[i][j] = elem / out_node[i]\n",
    "        \n",
    "        return transition\n",
    "    \n",
    "\n",
    "    def create_transposed(self):\n",
    "        return np.transpose(self.create_transition())\n",
    "\n",
    "    \n",
    "    def page_rank_pow(self, r: list, decay_rate: int, iteration: int, transposed: list[list]):\n",
    "        if iteration <= 0:\n",
    "            return r\n",
    "        \n",
    "        ret = [0] * len(r)\n",
    "        for row, lst in enumerate(transposed):\n",
    "            new_r = (1 - decay_rate)/5\n",
    "            for col, elem in enumerate(lst):\n",
    "                if elem == 0:\n",
    "                    continue\n",
    "                new_r += decay_rate * r[col] * transposed[row][col]    \n",
    "            ret[row] = round(new_r, 5)\n",
    "            \n",
    "        return self.page_rank_pow(r=ret, transposed=transposed, decay_rate=decay_rate, iteration=iteration-1)"
   ]
  },
  {
   "cell_type": "code",
   "execution_count": 61,
   "metadata": {},
   "outputs": [],
   "source": [
    "def show_array(array: list):\n",
    "    if all(isinstance(i, list) for i in array):\n",
    "        for i in array:\n",
    "            print(i)\n",
    "    else:\n",
    "        print(array)\n",
    "    print('\\n')"
   ]
  },
  {
   "cell_type": "code",
   "execution_count": 70,
   "metadata": {},
   "outputs": [],
   "source": [
    "data_set = {\n",
    "    1: [2],\n",
    "    2: [3,4],\n",
    "    3: [4],\n",
    "    4: [1, 5],\n",
    "    5: [3],\n",
    "}\n",
    "\n",
    "page = Page_Rank(data_set)"
   ]
  },
  {
   "cell_type": "code",
   "execution_count": 71,
   "metadata": {},
   "outputs": [],
   "source": [
    "transposed = page.create_transposed()\n",
    "decay_rate = 0.85\n",
    "initial_r = [1/n] * n"
   ]
  },
  {
   "cell_type": "code",
   "execution_count": 72,
   "metadata": {},
   "outputs": [],
   "source": [
    "x = page.page_rank_pow(r = initial_r, transposed = transposed, decay_rate = decay_rate, iteration = 100)"
   ]
  },
  {
   "cell_type": "code",
   "execution_count": 73,
   "metadata": {},
   "outputs": [
    {
     "name": "stdout",
     "output_type": "stream",
     "text": [
      "[0.15557, 0.16223, 0.23117, 0.29545, 0.15557]\n"
     ]
    }
   ],
   "source": [
    "x = page_rank_pow(r=ranking, transposed=transposed, decay_rate=decay_rate, iteration=100)\n",
    "print(x)"
   ]
  },
  {
   "cell_type": "code",
   "execution_count": null,
   "metadata": {},
   "outputs": [],
   "source": []
  },
  {
   "cell_type": "code",
   "execution_count": null,
   "metadata": {},
   "outputs": [],
   "source": []
  },
  {
   "cell_type": "code",
   "execution_count": null,
   "metadata": {},
   "outputs": [],
   "source": []
  },
  {
   "cell_type": "code",
   "execution_count": null,
   "metadata": {},
   "outputs": [],
   "source": []
  }
 ],
 "metadata": {
  "kernelspec": {
   "display_name": "Python 3.9.12 ('base')",
   "language": "python",
   "name": "python3"
  },
  "language_info": {
   "codemirror_mode": {
    "name": "ipython",
    "version": 3
   },
   "file_extension": ".py",
   "mimetype": "text/x-python",
   "name": "python",
   "nbconvert_exporter": "python",
   "pygments_lexer": "ipython3",
   "version": "3.9.12"
  },
  "orig_nbformat": 4,
  "vscode": {
   "interpreter": {
    "hash": "2796f898c241be261d17d4440712f4c58a6e72713839fe7ec4d10cc08aa00573"
   }
  }
 },
 "nbformat": 4,
 "nbformat_minor": 2
}
