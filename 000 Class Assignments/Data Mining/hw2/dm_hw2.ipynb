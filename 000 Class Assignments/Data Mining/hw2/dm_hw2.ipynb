{
 "cells": [
  {
   "cell_type": "code",
   "execution_count": 6,
   "metadata": {},
   "outputs": [
    {
     "data": {
      "text/plain": [
       "9"
      ]
     },
     "execution_count": 6,
     "metadata": {},
     "output_type": "execute_result"
    }
   ],
   "source": [
    "\n",
    "def find_edit_distance(str1: str, str2: str) -> int:\n",
    "    len1 = len(str1)\n",
    "    len2 = len(str2)\n",
    "\n",
    "    table = [[0 for j in range(len2+1)] for i in range(len1+1)]     # table to save previous calculations\n",
    "\n",
    "    for i in range(0, len1 + 1):\n",
    "        for j in range(0, len2 + 1):\n",
    "            if i == 0:\n",
    "                table[i][j] = j\n",
    "            elif j == 0:\n",
    "                table[i][j] = i\n",
    "\n",
    "            elif str1[i-1] == str2[j-1]:  # check if character are the same\n",
    "                table[i][j] = table[i-1][j-1]   # take number of prior edits before we got to that specific character; does not change since they are the same\n",
    "            else:\n",
    "                table[i][j] = 1 + min(\n",
    "                                        table[i-1][j-1],    # number of edits before getting that element\n",
    "                                        table[i][j-1],\n",
    "                                        table[i-1][j])\n",
    "\n",
    "    return table[-1][-1]\n",
    "\n",
    "\n",
    "str1 = 'hello'\n",
    "str2 = 'hellnnnnnnnnno'\n",
    "find_edit_distance(str1, str2)\n"
   ]
  }
 ],
 "metadata": {
  "kernelspec": {
   "display_name": "Python 3.10.6 64-bit",
   "language": "python",
   "name": "python3"
  },
  "language_info": {
   "codemirror_mode": {
    "name": "ipython",
    "version": 3
   },
   "file_extension": ".py",
   "mimetype": "text/x-python",
   "name": "python",
   "nbconvert_exporter": "python",
   "pygments_lexer": "ipython3",
   "version": "3.10.6"
  },
  "orig_nbformat": 4,
  "vscode": {
   "interpreter": {
    "hash": "916dbcbb3f70747c44a77c7bcd40155683ae19c65e1c03b4aa3499c5328201f1"
   }
  }
 },
 "nbformat": 4,
 "nbformat_minor": 2
}
