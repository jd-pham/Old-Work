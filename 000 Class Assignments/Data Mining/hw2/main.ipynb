{
 "cells": [
  {
   "cell_type": "code",
   "execution_count": 69,
   "metadata": {},
   "outputs": [],
   "source": [
    "import numpy as np\n",
    "import pandas as pd\n",
    "from matplotlib import pyplot as plt\n",
    "from scipy import spatial\n",
    "import scipy.stats\n",
    "from itertools import combinations"
   ]
  },
  {
   "cell_type": "code",
   "execution_count": 13,
   "metadata": {},
   "outputs": [],
   "source": [
    "# Calculates relevant summary statistics for a given array\n",
    "def summary_stats(array: list) -> int:\n",
    "    mean = np.mean(array)\t\n",
    "    median = np.median(array)\n",
    "    mode_arr = mode(array)\n",
    "    \n",
    "    min_arr = min(array)\n",
    "    max_arr = max(array)\n",
    "    quartiles = np.percentile(array, [25, 75]) # finds 1st and 3rd quartile of the array, 25% and 75% respectively.\n",
    "\n",
    "    print(f'mean: {mean}\\nmedian: {median}\\nmode: {mode_arr}\\n')\n",
    "    print(f'lower quartile: {quartiles[0]}\\nupper quartile: {quartiles[1]}\\nmin: {min_arr}\\nmax: {max_arr}\\n')\n",
    "\n",
    "# Function to find the mode in a given array using a dictionary to count their frequency.\n",
    "def mode(array: list) -> int:\n",
    "    freq = dict()  \n",
    "    for i in array:\n",
    "        if i in freq:\n",
    "            freq[i] += 1\n",
    "        else:\n",
    "            freq[i] = 1\n",
    "    \n",
    "    return max(freq, key=freq.get) # return key based on the highest value (k:v pair)\n",
    "\n",
    "\n",
    "\n",
    "# Finds outliers in an array based on 1.5 * IQR rule\n",
    "def find_outliers(array: list):\n",
    "    quartiles = np.percentile(array, [25, 75])\t# get 1st and 3rd quartile for calculations\n",
    "    iqr = (quartiles[1] - quartiles[0])\t# IQR = 3rd Quartile - 1st Quartile\n",
    "  \t\n",
    "    lower = quartiles[0] - iqr # lowest value before it could be considered an outlier\n",
    "    upper = quartiles[1] + iqr # highest value before it becomes an outlier\n",
    "\n",
    "    outliers = [elem for elem in array if elem < lower or elem > upper] # find all (elements < lower) or (elements > upper)\n",
    "    print(outliers)\n",
    "\n",
    "\n",
    "\n",
    "# # Function to compare similarities between two entries, based on binary attributes\n",
    "# def find_binary_similarity(df: pd.DataFrame, col1, col2):\n",
    "#     new_df = pd.DataFrame([df[col1], df[col2]]).transpose()\t# Transpose to traverse easier\n",
    "\n",
    "#     cnt = 0\t# count of similarities\n",
    "#     for rows in new_df.index:\n",
    "#         if new_df[col1][rows] == new_df[col2][rows]: # check if they have a matching attribute\n",
    "#             cnt += 1\n",
    "\n",
    "#     print(new_df, '\\n') \n",
    "#     print(f'Similarity between {col1} and {col2}: {cnt / len(new_df.index)}\\n')\n",
    "\n",
    "\n",
    "def find_binary_similarity(list1: list, list2: list) -> int:\n",
    "    \n",
    "    sim_cnt = 0\n",
    "    for ele1, ele2 in zip(list1, list2):\n",
    "        if ele1 == ele2:\n",
    "            sim_cnt += 1\n",
    "        \n",
    "    return sim_cnt / len(list1)\n",
    "\n",
    "\n",
    "\n",
    "# Normalize data in a given array using its min & max values\n",
    "def normalization(array: list):\n",
    "    lower = max(array) - min(array)\n",
    "    arr_min = min(array)\n",
    "    ret = []\n",
    "    for i in array:\n",
    "        ret += [(i - arr_min) / lower]\n",
    "\n",
    "    print(ret)\n"
   ]
  },
  {
   "cell_type": "code",
   "execution_count": 65,
   "metadata": {},
   "outputs": [],
   "source": [
    "def show_ar(array: list[list]):\n",
    "    for i in array:\n",
    "        print(i, '')\n",
    "\n",
    "\n",
    "def find_edit_distance(str1: str, str2: str) -> int:\n",
    "    len1 = len(str1)\n",
    "    len2 = len(str2)\n",
    "\n",
    "    table = [[0 for j in range(len2+1)] for i in range(len1+1)]     # table to save previous calculations\n",
    "\n",
    "    for i in range(0, len1 + 1):\n",
    "        for j in range(0, len2 + 1):\n",
    "            if i == 0:\n",
    "                table[i][j] = j\n",
    "            elif j == 0:\n",
    "                table[i][j] = i\n",
    "\n",
    "            elif str1[i-1] == str2[j-1]:  \n",
    "                table[i][j] = table[i-1][j-1]   \n",
    "            else:\n",
    "                table[i][j] = 1 + min(\n",
    "                                        table[i-1][j-1],    \n",
    "                                        table[i][j-1],\n",
    "                                        table[i-1][j])\n",
    "    show_ar(table)\n",
    "    return table[-1][-1]"
   ]
  },
  {
   "cell_type": "code",
   "execution_count": 7,
   "metadata": {},
   "outputs": [
    {
     "name": "stdout",
     "output_type": "stream",
     "text": [
      "mean: 73.25\n",
      "median: 75.5\n",
      "mode: 82.4\n",
      "\n",
      "lower quartile: 66.8\n",
      "upper quartile: 81.67500000000001\n",
      "min: 56.5\n",
      "max: 82.7\n",
      "\n"
     ]
    }
   ],
   "source": [
    "outdoor_temp = [63.2, 82.4, 82.7, 76.6, 68.6, 74.4, 82.4, 66.2, 79.5, 56.5]\n",
    "summary_stats(outdoor_temp)"
   ]
  },
  {
   "cell_type": "code",
   "execution_count": 8,
   "metadata": {},
   "outputs": [
    {
     "name": "stdout",
     "output_type": "stream",
     "text": [
      "mean: 73.54\n",
      "median: 74.15\n",
      "mode: 68.5\n",
      "\n",
      "lower quartile: 71.525\n",
      "upper quartile: 74.875\n",
      "min: 68.5\n",
      "max: 79.5\n",
      "\n"
     ]
    }
   ],
   "source": [
    "indoor_temp = [68.5, 73.8, 79.5, 74.9, 72.5, 75.1, 74.8, 70.6, 74.5, 71.2]\n",
    "summary_stats(indoor_temp)"
   ]
  },
  {
   "cell_type": "code",
   "execution_count": 10,
   "metadata": {},
   "outputs": [
    {
     "name": "stdout",
     "output_type": "stream",
     "text": [
      "[5.299999999999997, 8.600000000000009, 3.200000000000003, 1.6999999999999886, 3.9000000000000057, 0.6999999999999886, 7.6000000000000085, 4.3999999999999915, 5.0, 14.700000000000003]\n"
     ]
    }
   ],
   "source": [
    "dist = []\n",
    "for outdoor, indoor in zip(outdoor_temp, indoor_temp):\n",
    "    dist += [abs(outdoor - indoor)]\n",
    "\n",
    "print(dist)"
   ]
  },
  {
   "cell_type": "code",
   "execution_count": 11,
   "metadata": {},
   "outputs": [
    {
     "name": "stdout",
     "output_type": "stream",
     "text": [
      "(0.7877417193884946, 0.006812519094620164)\n"
     ]
    }
   ],
   "source": [
    "print(scipy.stats.pearsonr(outdoor_temp, indoor_temp))\n"
   ]
  },
  {
   "cell_type": "code",
   "execution_count": 16,
   "metadata": {},
   "outputs": [
    {
     "name": "stdout",
     "output_type": "stream",
     "text": [
      "0.5\n",
      "(0.0, 0.9999999999999998)\n",
      "(0.6, 0.06668800000000001)\n"
     ]
    }
   ],
   "source": [
    "# let 0 = cool and 1 = hot\n",
    "\n",
    "q2_outdoor = [0, 1, 1, 1, 0, 0, 1, 0, 1, 0]\n",
    "q2_indoor = [0, 0, 1, 0, 0, 1, 0, 0, 0, 0]\n",
    "# print(find_binary_similarity(q2_indoor, q2_outdoor))\n",
    "print(scipy.stats.pearsonr(q2_outdoor, q2_indoor))\n",
    "\n",
    "# let 0 = off, 1 = on for AC running\n",
    "ac_running = [0, 1, 0, 1, 1, 0, 1, 0, 1, 0]\n",
    "print(scipy.stats.pearsonr(q2_outdoor, ac_running))"
   ]
  },
  {
   "cell_type": "code",
   "execution_count": 34,
   "metadata": {},
   "outputs": [
    {
     "name": "stdout",
     "output_type": "stream",
     "text": [
      "[0, 1, 2, 3, 4, 5, 6, 7, 8, 9, 10] \n",
      "[1, 1, 1, 2, 3, 4, 5, 6, 7, 8, 9] \n",
      "[2, 1, 2, 2, 3, 4, 4, 5, 6, 7, 8] \n",
      "[3, 2, 2, 3, 3, 3, 4, 5, 6, 7, 8] \n",
      "[4, 3, 3, 3, 4, 4, 3, 4, 5, 6, 7] \n",
      "[5, 4, 4, 4, 4, 5, 4, 4, 4, 5, 6] \n",
      "[6, 5, 5, 5, 4, 5, 5, 4, 5, 4, 5] \n",
      "[7, 6, 6, 6, 5, 5, 6, 5, 5, 5, 5] \n",
      "[8, 7, 7, 7, 6, 6, 5, 6, 5, 6, 5] \n",
      "[9, 8, 8, 8, 7, 7, 6, 5, 6, 5, 6] \n",
      "[10, 9, 8, 8, 8, 8, 7, 6, 6, 6, 6] \n",
      "[11, 10, 9, 9, 8, 9, 8, 7, 7, 6, 7] \n",
      "[12, 11, 10, 10, 9, 9, 9, 8, 7, 7, 6] \n"
     ]
    },
    {
     "data": {
      "text/plain": [
       "6"
      ]
     },
     "execution_count": 34,
     "metadata": {},
     "output_type": "execute_result"
    }
   ],
   "source": [
    "str1 = 'TACAAGGAGTGA'\n",
    "str2 = 'ATTGCAGAGA'\n",
    "find_edit_distance(str1, str2)"
   ]
  },
  {
   "cell_type": "code",
   "execution_count": 95,
   "metadata": {},
   "outputs": [
    {
     "name": "stdout",
     "output_type": "stream",
     "text": [
      "[0, 1.0, 1.2, 1.4, 1.7, 2.1, 2.1, 2.1, 1.9, 1.8, 1.7] \n",
      "[1.0, 0.0, 0.2, 0.6, 1.3, 2.4, 3.2, 3.2, 2.8, 2.6, 2.4] \n",
      "[1.01, 0.01, 0.19, 0.58, 1.27, 2.36, 3.45, 4.29, 3.69, 3.39, 3.09] \n",
      "[1.02, 0.03, 0.19, 0.57, 1.25, 2.33, 3.41, 4.49, 4.57, 4.17, 3.77] \n",
      "[1.19, 0.22, 0.04, 0.25, 0.76, 1.67, 2.58, 3.49, 4.2, 4.78, 4.28] \n",
      "[1.38, 0.6, 0.22, 0.06, 0.38, 1.1, 1.82, 2.54, 3.06, 3.48, 3.8] \n",
      "[1.72, 1.32, 0.74, 0.38, 0.08, 0.46, 0.84, 1.22, 1.4, 1.48, 1.5] \n",
      "[2.05, 2.37, 1.59, 1.03, 0.43, 0.13, 0.18, 0.23, 0.38, 0.63, 0.98] \n",
      "[1.92, 2.84, 2.31, 1.55, 0.65, 0.31, 0.31, 0.36, 0.25, 0.37, 0.59] \n",
      "[1.81, 2.62, 2.92, 1.96, 0.76, 0.6, 0.6, 0.6, 0.34, 0.26, 0.37] \n",
      "[1.68, 2.36, 2.84, 2.24, 0.78, 1.02, 1.02, 1.02, 0.56, 0.38, 0.28] \n",
      "[1.54, 2.08, 2.42, 2.38, 0.94, 1.34, 1.58, 1.58, 0.92, 0.64, 0.44] \n",
      "0.44\n"
     ]
    }
   ],
   "source": [
    "def dtw_distance(arr1: list, arr2: list) -> int:\n",
    "    def dist(distance1: int, distance2: int) -> int:\n",
    "        return abs(distance1 - distance2)\n",
    "\n",
    "\n",
    "    len1 = len(arr1) + 1\n",
    "    len2 = len(arr2) + 1\n",
    "    table = [[99 for j in range(len2)] for i in range(len1)]\n",
    "    table[0][0] = 0\n",
    "    for i in range(1, len1):\n",
    "        table[i][0] = arr1[i-1]\n",
    "    for j in range(1, len2):\n",
    "        table[0][j] = arr2[j-1]\n",
    "\n",
    "    for i in range(1, len1):\n",
    "        for j in range(1, len2):\n",
    "\n",
    "     \n",
    "            cost = dist(arr1[i-1], arr2[j-1])\n",
    "            # if table[i-1][j-1] == min(\n",
    "            #                             table[i-1][j],\n",
    "            #                             table[i][j-1],\n",
    "            #                             table[i-1][j-1]):\n",
    "            #     print(i, j)\n",
    "\n",
    "            table[i][j] = round(cost + min(\n",
    "                                        table[i-1][j],\n",
    "                                        table[i][j-1],\n",
    "                                        table[i-1][j-1]\n",
    "            ), 4)\n",
    "            \n",
    "    \n",
    "\n",
    "\n",
    "    show_ar(table)\n",
    "    return table[-1][-1]\n",
    "\n",
    "series1 = [1.0, 1.2, 1.4, 1.7, 2.1, 2.1, 2.1, 1.9, 1.8, 1.7,]\n",
    "series2 = [1.0, 1.01, 1.02, 1.19, 1.38, 1.72, 2.05, 1.92, 1.81, 1.68, 1.54]\n",
    "print(dtw_distance(series2, series1))\n",
    "    "
   ]
  }
 ],
 "metadata": {
  "kernelspec": {
   "display_name": "Python 3.9.12 ('base')",
   "language": "python",
   "name": "python3"
  },
  "language_info": {
   "codemirror_mode": {
    "name": "ipython",
    "version": 3
   },
   "file_extension": ".py",
   "mimetype": "text/x-python",
   "name": "python",
   "nbconvert_exporter": "python",
   "pygments_lexer": "ipython3",
   "version": "3.9.12"
  },
  "orig_nbformat": 4,
  "vscode": {
   "interpreter": {
    "hash": "2796f898c241be261d17d4440712f4c58a6e72713839fe7ec4d10cc08aa00573"
   }
  }
 },
 "nbformat": 4,
 "nbformat_minor": 2
}
