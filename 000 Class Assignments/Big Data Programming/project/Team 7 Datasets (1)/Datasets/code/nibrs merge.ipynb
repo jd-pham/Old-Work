{
 "cells": [
  {
   "cell_type": "code",
   "execution_count": null,
   "id": "86fb46f5",
   "metadata": {},
   "outputs": [],
   "source": [
    "import pandas as pd\n",
    "import numpy as np\n",
    "import seaborn as sb\n",
    "%matplotlib inline\n",
    "import os\n",
    "    "
   ]
  },
  {
   "cell_type": "code",
   "execution_count": null,
   "id": "00e05ba6",
   "metadata": {},
   "outputs": [],
   "source": [
    "# load excel sheets into dataframe\n",
    "os.listdir('nibrs')\n",
    "table_list = [pd.read_excel(f'.\\\\nibrs\\\\{xlsx}') for xlsx in os.listdir('nibrs')]"
   ]
  },
  {
   "cell_type": "code",
   "execution_count": null,
   "id": "d6999bd9",
   "metadata": {},
   "outputs": [],
   "source": [
    "# remove superscript & white spaces from entries\n",
    "remove_formatting = [\"State\", \"Agency Type\", \"Agency Name\"] # columns we want to target\n",
    "\n",
    "# apply formatting to each table\n",
    "for tables in table_list:\n",
    "    tables[remove_formatting] = (tables[remove_formatting]\n",
    "    .apply(lambda x: x.str.replace(r'\\d+', '', regex=True)) # remove superscript / subscript\n",
    "    .apply(lambda x: x.str.strip()) # remove white space\n",
    "    .fillna(method='ffill') # fill in na caused by merged cells\n",
    "    )"
   ]
  },
  {
   "cell_type": "code",
   "execution_count": null,
   "metadata": {},
   "outputs": [],
   "source": [
    "main_table = table_list[0] \n",
    "\n",
    "join_columns = list(main_table.columns[:3]) # columns we want to join on\n",
    "pattern = '[^(Population)(Agency Type)]' # regex pattern\n",
    "\n",
    "for tables in table_list[1:]:\n",
    "    main_table = main_table.merge(tables, on=join_columns, how='outer', suffixes = ['_x', '_y'])    # merge excel sheets\n",
    "\n",
    "    main_table['Population_x'] = round(np.mean(main_table.filter(regex=r'Population'), axis=1)) # calculate population average\n",
    "    sum_cols = np.add(                                                                          # add cells based on new \n",
    "                        main_table.filter(regex=rf'{pattern}.*_x$').fillna(0), \n",
    "                        np.asarray(main_table.filter(regex=rf'{pattern}.*_y$').fillna(0))\n",
    "                    )\n",
    "    \n",
    "    main_table[sum_cols.columns] = sum_cols\n",
    "    main_table.drop(main_table.filter(regex=rf'_y$'), axis=1, inplace=True)\n",
    "    main_table.drop_duplicates(subset=join_columns, keep='last', ignore_index=True, inplace=True)\n",
    "    main_table.columns = main_table.columns.str.rstrip(\"_x\")"
   ]
  },
  {
   "cell_type": "code",
   "execution_count": null,
   "id": "4fb5b9db",
   "metadata": {},
   "outputs": [],
   "source": [
    "try:\n",
    "    os.mkdir(f'{os.getcwd()}\\\\nibrs_output')\n",
    "except FileExistsError:\n",
    "    pass\n"
   ]
  },
  {
   "cell_type": "code",
   "execution_count": null,
   "id": "ad91ef06",
   "metadata": {},
   "outputs": [],
   "source": []
  },
  {
   "cell_type": "code",
   "execution_count": null,
   "metadata": {},
   "outputs": [],
   "source": [
    "main_table"
   ]
  },
  {
   "cell_type": "code",
   "execution_count": null,
   "id": "27dde10b",
   "metadata": {},
   "outputs": [],
   "source": [
    "\n",
    "new_columns = ['State', 'Agency Type', 'Agency Name', 'Average Population (2012 - 2020)', 'Total Offenses', 'Crimes Against Persons', 'Crimes Against Property', 'Crimes Against Society']\n",
    "main_table.columns = new_columns\n",
    "unique_agency_types = list(main_table['Agency Type'].unique())\n",
    "unique_agency_types\n",
    "\n",
    "main_table.to_excel(f'{os.getcwd()}\\\\nibrs_output\\\\combined_nibrs_2012-2020.xlsx', na_rep='NA', sheet_name='Cities', header=new_columns, index=False)\n"
   ]
  }
 ],
 "metadata": {
  "kernelspec": {
   "display_name": "Python 3.8.10 64-bit",
   "language": "python",
   "name": "python3"
  },
  "language_info": {
   "codemirror_mode": {
    "name": "ipython",
    "version": 3
   },
   "file_extension": ".py",
   "mimetype": "text/x-python",
   "name": "python",
   "nbconvert_exporter": "python",
   "pygments_lexer": "ipython3",
   "version": "3.8.10"
  },
  "vscode": {
   "interpreter": {
    "hash": "916dbcbb3f70747c44a77c7bcd40155683ae19c65e1c03b4aa3499c5328201f1"
   }
  }
 },
 "nbformat": 4,
 "nbformat_minor": 5
}
