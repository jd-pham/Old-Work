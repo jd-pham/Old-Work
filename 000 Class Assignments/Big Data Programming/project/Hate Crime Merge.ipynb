{
 "cells": [
  {
   "cell_type": "code",
   "execution_count": null,
   "metadata": {},
   "outputs": [],
   "source": [
    "import pandas as pd\n",
    "import numpy as np\n",
    "import os\n"
   ]
  },
  {
   "cell_type": "code",
   "execution_count": null,
   "metadata": {},
   "outputs": [],
   "source": [
    "os.getcwd()\n",
    "os.chdir(f'{os.getcwd()}\\\\project')"
   ]
  },
  {
   "cell_type": "code",
   "execution_count": null,
   "metadata": {},
   "outputs": [],
   "source": [
    "df = pd.read_excel('hate_crime.xlsx')\n"
   ]
  },
  {
   "cell_type": "code",
   "execution_count": null,
   "metadata": {},
   "outputs": [],
   "source": [
    "df"
   ]
  },
  {
   "cell_type": "code",
   "execution_count": null,
   "metadata": {},
   "outputs": [],
   "source": [
    "df.columns = ['Agency Name', 'Agency Type', 'State', 'Offender Count', 'Offense Name']\n",
    "unique_offenses = df['Offense Name'].unique()\n",
    "df"
   ]
  },
  {
   "cell_type": "code",
   "execution_count": null,
   "metadata": {},
   "outputs": [],
   "source": [
    "df.drop_duplicates(keep='first', subset=['Agency Name', 'Agency Type', 'State'], inplace=True)\n",
    "df.reset_index(drop=True)"
   ]
  },
  {
   "cell_type": "code",
   "execution_count": 27,
   "metadata": {},
   "outputs": [
    {
     "data": {
      "text/plain": [
       "array(['Intimidation', 'Simple Assault', 'Aggravated Assault',\n",
       "       'Aggravated Assault;Murder and Nonnegligent Manslaughter',\n",
       "       'Destruction/Damage/Vandalism of Property',\n",
       "       'Burglary/Breaking & Entering;Destruction/Damage/Vandalism of Property;Not Specified',\n",
       "       'Intimidation;Not Specified',\n",
       "       'Destruction/Damage/Vandalism of Property;Intimidation', 'Arson',\n",
       "       'Murder and Nonnegligent Manslaughter',\n",
       "       'Destruction/Damage/Vandalism of Property;Simple Assault',\n",
       "       'Aggravated Assault;Destruction/Damage/Vandalism of Property',\n",
       "       'Robbery', 'Aggravated Assault;Arson',\n",
       "       'Destruction/Damage/Vandalism of Property;Not Specified',\n",
       "       'Destruction/Damage/Vandalism of Property;Robbery',\n",
       "       'Intimidation;Robbery', 'Aggravated Assault;Intimidation',\n",
       "       'Burglary/Breaking & Entering;Destruction/Damage/Vandalism of Property',\n",
       "       'Burglary/Breaking & Entering', 'Not Specified', 'Rape',\n",
       "       'Aggravated Assault;Simple Assault',\n",
       "       'Burglary/Breaking & Entering;Intimidation;Simple Assault',\n",
       "       'Murder and Nonnegligent Manslaughter;Rape', 'Arson;Intimidation',\n",
       "       'Intimidation;Simple Assault', 'Drug/Narcotic Violations',\n",
       "       'Shoplifting', 'Weapon Law Violations', 'All Other Larceny',\n",
       "       'Aggravated Assault;Simple Assault;Weapon Law Violations',\n",
       "       'Aggravated Assault;Weapon Law Violations', 'Motor Vehicle Theft',\n",
       "       'Theft of Motor Vehicle Parts or Accessories',\n",
       "       'Destruction/Damage/Vandalism of Property;Theft From Motor Vehicle',\n",
       "       'Burglary/Breaking & Entering;Not Specified',\n",
       "       'Aggravated Assault;Kidnapping/Abduction',\n",
       "       'Aggravated Assault;Destruction/Damage/Vandalism of Property;Intimidation',\n",
       "       'Arson;Destruction/Damage/Vandalism of Property;Intimidation',\n",
       "       'Aggravated Assault;Robbery', 'Rape;Robbery',\n",
       "       'Burglary/Breaking & Entering;Intimidation',\n",
       "       'Arson;Destruction/Damage/Vandalism of Property',\n",
       "       'Kidnapping/Abduction', 'Pornography/Obscene Material', 'Fondling',\n",
       "       'Theft From Building',\n",
       "       'Burglary/Breaking & Entering;Kidnapping/Abduction',\n",
       "       'Arson;Burglary/Breaking & Entering',\n",
       "       'Aggravated Assault;Burglary/Breaking & Entering;Destruction/Damage/Vandalism of Property;Intimidation',\n",
       "       'Aggravated Assault;Destruction/Damage/Vandalism of Property;Intimidation;Simple Assault',\n",
       "       'Theft From Motor Vehicle', 'Counterfeiting/Forgery',\n",
       "       'Welfare Fraud', 'Simple Assault;Stolen Property Offenses',\n",
       "       'All Other Larceny;Burglary/Breaking & Entering',\n",
       "       'All Other Larceny;Burglary/Breaking & Entering;Destruction/Damage/Vandalism of Property',\n",
       "       'Intimidation;Rape',\n",
       "       'Aggravated Assault;Burglary/Breaking & Entering',\n",
       "       'Destruction/Damage/Vandalism of Property;Weapon Law Violations',\n",
       "       'Not Specified;Simple Assault',\n",
       "       'False Pretenses/Swindle/Confidence Game',\n",
       "       'Theft From Coin-Operated Machine or Device',\n",
       "       'Burglary/Breaking & Entering;Destruction/Damage/Vandalism of Property;Simple Assault',\n",
       "       'Burglary/Breaking & Entering;Theft From Building',\n",
       "       'Drug Equipment Violations', 'Intimidation;Motor Vehicle Theft',\n",
       "       'Aggravated Assault;Arson;Destruction/Damage/Vandalism of Property',\n",
       "       'Impersonation',\n",
       "       'Aggravated Assault;Destruction/Damage/Vandalism of Property;Simple Assault',\n",
       "       'Aggravated Assault;Intimidation;Simple Assault', 'Sodomy',\n",
       "       'Embezzlement', 'Stolen Property Offenses',\n",
       "       'All Other Larceny;Motor Vehicle Theft',\n",
       "       'False Pretenses/Swindle/Confidence Game;Simple Assault',\n",
       "       'Aggravated Assault;Arson;Burglary/Breaking & Entering;Destruction/Damage/Vandalism of Property;Theft From Building',\n",
       "       'Drug Equipment Violations;Drug/Narcotic Violations',\n",
       "       'Destruction/Damage/Vandalism of Property;Motor Vehicle Theft',\n",
       "       'Aggravated Assault;Motor Vehicle Theft', 'Pocket-picking',\n",
       "       'Credit Card/Automated Teller Machine Fraud',\n",
       "       'All Other Larceny;Simple Assault',\n",
       "       'Arson;Burglary/Breaking & Entering;Destruction/Damage/Vandalism of Property;Simple Assault',\n",
       "       'All Other Larceny;Counterfeiting/Forgery',\n",
       "       'Destruction/Damage/Vandalism of Property;Intimidation;Simple Assault',\n",
       "       'Sexual Assault With An Object',\n",
       "       'Counterfeiting/Forgery;False Pretenses/Swindle/Confidence Game',\n",
       "       'All Other Larceny;Destruction/Damage/Vandalism of Property',\n",
       "       'Intimidation;Weapon Law Violations',\n",
       "       'Aggravated Assault;Robbery;Simple Assault',\n",
       "       'Aggravated Assault;Not Specified', 'Purse-snatching',\n",
       "       'Robbery;Simple Assault',\n",
       "       'Extortion/Blackmail;Pornography/Obscene Material',\n",
       "       'Statutory Rape',\n",
       "       'Burglary/Breaking & Entering;Motor Vehicle Theft',\n",
       "       'Arson;Burglary/Breaking & Entering;Destruction/Damage/Vandalism of Property',\n",
       "       'Arson;Stolen Property Offenses',\n",
       "       'Burglary/Breaking & Entering;Simple Assault',\n",
       "       'Arson;Burglary/Breaking & Entering;Destruction/Damage/Vandalism of Property;Not Specified',\n",
       "       'Extortion/Blackmail', 'Human Trafficking, Commercial Sex Acts',\n",
       "       'Burglary/Breaking & Entering;Motor Vehicle Theft;Not Specified',\n",
       "       'Burglary/Breaking & Entering;Drug/Narcotic Violations',\n",
       "       'Motor Vehicle Theft;Theft of Motor Vehicle Parts or Accessories',\n",
       "       'Kidnapping/Abduction;Simple Assault',\n",
       "       'Drug/Narcotic Violations;Shoplifting',\n",
       "       'Credit Card/Automated Teller Machine Fraud;Identity Theft',\n",
       "       'Simple Assault;Theft From Building', 'Identity Theft',\n",
       "       'Animal Cruelty'], dtype=object)"
      ]
     },
     "execution_count": 27,
     "metadata": {},
     "output_type": "execute_result"
    }
   ],
   "source": [
    "unique_offenses"
   ]
  },
  {
   "cell_type": "code",
   "execution_count": 40,
   "metadata": {},
   "outputs": [
    {
     "data": {
      "text/plain": [
       "{'Aggravated Assault',\n",
       " 'All Other Larceny',\n",
       " 'Animal Cruelty',\n",
       " 'Arson',\n",
       " 'Burglary/Breaking & Entering',\n",
       " 'Counterfeiting/Forgery',\n",
       " 'Credit Card/Automated Teller Machine Fraud',\n",
       " 'Destruction/Damage/Vandalism of Property',\n",
       " 'Drug Equipment Violations',\n",
       " 'Drug/Narcotic Violations',\n",
       " 'Embezzlement',\n",
       " 'Extortion/Blackmail',\n",
       " 'False Pretenses/Swindle/Confidence Game',\n",
       " 'Fondling',\n",
       " 'Human Trafficking, Commercial Sex Acts',\n",
       " 'Identity Theft',\n",
       " 'Impersonation',\n",
       " 'Intimidation',\n",
       " 'Kidnapping/Abduction',\n",
       " 'Motor Vehicle Theft',\n",
       " 'Murder and Nonnegligent Manslaughter',\n",
       " 'Not Specified',\n",
       " 'Pocket-picking',\n",
       " 'Pornography/Obscene Material',\n",
       " 'Purse-snatching',\n",
       " 'Rape',\n",
       " 'Robbery',\n",
       " 'Sexual Assault With An Object',\n",
       " 'Shoplifting',\n",
       " 'Simple Assault',\n",
       " 'Sodomy',\n",
       " 'Statutory Rape',\n",
       " 'Stolen Property Offenses',\n",
       " 'Theft From Building',\n",
       " 'Theft From Coin-Operated Machine or Device',\n",
       " 'Theft From Motor Vehicle',\n",
       " 'Theft of Motor Vehicle Parts or Accessories',\n",
       " 'Weapon Law Violations',\n",
       " 'Welfare Fraud'}"
      ]
     },
     "execution_count": 40,
     "metadata": {},
     "output_type": "execute_result"
    }
   ],
   "source": [
    "single_str = ';'.join(str(offense_type) for offense_type in unique_offenses)\n",
    "single_str = single_str.split(';')\n",
    "single_str = set(single_str)\n",
    "single_str"
   ]
  },
  {
   "cell_type": "code",
   "execution_count": null,
   "metadata": {},
   "outputs": [],
   "source": []
  },
  {
   "cell_type": "code",
   "execution_count": null,
   "metadata": {},
   "outputs": [],
   "source": [
    "df.loc[(df['Agency Type'] == 'City') & (df['Offense Name'] == 'Aggravated Assault')]"
   ]
  },
  {
   "cell_type": "code",
   "execution_count": null,
   "metadata": {},
   "outputs": [],
   "source": [
    "df.loc[(df['State'] == 'Texas') & (df['Offense Name'] == 'Robbery')]"
   ]
  },
  {
   "cell_type": "code",
   "execution_count": null,
   "metadata": {},
   "outputs": [],
   "source": []
  }
 ],
 "metadata": {
  "interpreter": {
   "hash": "b3ba2566441a7c06988d0923437866b63cedc61552a5af99d1f4fb67d367b25f"
  },
  "kernelspec": {
   "display_name": "Python 3.9.7 ('base')",
   "language": "python",
   "name": "python3"
  },
  "language_info": {
   "codemirror_mode": {
    "name": "ipython",
    "version": 3
   },
   "file_extension": ".py",
   "mimetype": "text/x-python",
   "name": "python",
   "nbconvert_exporter": "python",
   "pygments_lexer": "ipython3",
   "version": "3.9.7"
  },
  "orig_nbformat": 4
 },
 "nbformat": 4,
 "nbformat_minor": 2
}
