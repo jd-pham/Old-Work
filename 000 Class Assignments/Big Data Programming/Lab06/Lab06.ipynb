{
 "cells": [
  {
   "cell_type": "markdown",
   "id": "741713c2",
   "metadata": {},
   "source": [
    "# Team 7\n",
    "## Birds of a feather flock together\n",
    "\n",
    "Data sets: FBI's National Incident-based Reporting System (NIBRS) for 2012 & 2020\n",
    "\n",
    "2012 nibrs link - https://ucr.fbi.gov/nibrs/2012/data-tables\n",
    "2020 nibrs link - https://crime-data-explorer.fr.cloud.gov/pages/explorer/crime/crime-trend\n",
    "\n",
    "I think that our hypothesis will be proven true."
   ]
  },
  {
   "cell_type": "code",
   "execution_count": 5,
   "id": "ece1c9a9",
   "metadata": {},
   "outputs": [],
   "source": [
    "'''\n",
    "Imports required libraries, numpy wasn't used (i think)\n",
    "\n",
    "Dataframes are an object type provided by Pandas (pd) that is compatible with Seaborn (sb) and Numpy (np).\n",
    "'''\n",
    "\n",
    "import pandas as pd # used to convert excel file into a data structure we can manipulate (dataframes)\n",
    "import numpy as np # used to make large scale computations efficiently\n",
    "import seaborn as sb # provides additional plotting capabilities, compatible w/ Pandas & NumPy\n",
    "from matplotlib import pyplot as plt # provides additional plotting functionalities, used as a base for pd/sb plotting \n",
    "\n",
    "# makes it so that graphed plot is shown directly below code cell\n",
    "%matplotlib inline "
   ]
  },
  {
   "cell_type": "code",
   "execution_count": 6,
   "id": "418c250a",
   "metadata": {},
   "outputs": [],
   "source": [
    "# reads excel files, creates a dataframe based on data read. Uses top row as labels for cols of the dataframe.\n",
    "df_2012 = pd.read_excel(\"nibrs_2012_cleaned.xls\")\n",
    "df_2020 = pd.read_excel(\"nibrs_2020_cleaned.xls\")\n",
    "\n",
    "# Removes irrelevant columns, probably should've done it during cleaning process\n",
    "df_2012.drop(['Population1'], axis=1, inplace=True)\n",
    "df_2020.drop(['Population1'], axis=1, inplace=True)"
   ]
  },
  {
   "cell_type": "code",
   "execution_count": 7,
   "id": "ce3bba17",
   "metadata": {
    "collapsed": true
   },
   "outputs": [
    {
     "data": {
      "text/html": [
       "<div>\n",
       "<style scoped>\n",
       "    .dataframe tbody tr th:only-of-type {\n",
       "        vertical-align: middle;\n",
       "    }\n",
       "\n",
       "    .dataframe tbody tr th {\n",
       "        vertical-align: top;\n",
       "    }\n",
       "\n",
       "    .dataframe thead th {\n",
       "        text-align: right;\n",
       "    }\n",
       "</style>\n",
       "<table border=\"1\" class=\"dataframe\">\n",
       "  <thead>\n",
       "    <tr style=\"text-align: right;\">\n",
       "      <th></th>\n",
       "      <th>Agency Name</th>\n",
       "      <th>Total\\nOffenses_x</th>\n",
       "      <th>Crimes\\nAgainst\\nPersons_x</th>\n",
       "      <th>Crimes\\nAgainst\\nProperty_x</th>\n",
       "      <th>Crimes\\nAgainst\\nSociety_x</th>\n",
       "      <th>Total\\nOffenses_y</th>\n",
       "      <th>Crimes\\nAgainst\\nPersons_y</th>\n",
       "      <th>Crimes\\nAgainst\\nProperty_y</th>\n",
       "      <th>Crimes\\nAgainst\\nSociety_y</th>\n",
       "    </tr>\n",
       "  </thead>\n",
       "  <tbody>\n",
       "    <tr>\n",
       "      <th>0</th>\n",
       "      <td>Apache Junction</td>\n",
       "      <td>2693.0</td>\n",
       "      <td>611.0</td>\n",
       "      <td>1748.0</td>\n",
       "      <td>334.0</td>\n",
       "      <td>2169.0</td>\n",
       "      <td>449.0</td>\n",
       "      <td>1123.0</td>\n",
       "      <td>597</td>\n",
       "    </tr>\n",
       "    <tr>\n",
       "      <th>1</th>\n",
       "      <td>Gilbert</td>\n",
       "      <td>10166.0</td>\n",
       "      <td>1396.0</td>\n",
       "      <td>6610.0</td>\n",
       "      <td>2160.0</td>\n",
       "      <td>11263.0</td>\n",
       "      <td>2176.0</td>\n",
       "      <td>6048.0</td>\n",
       "      <td>3039</td>\n",
       "    </tr>\n",
       "    <tr>\n",
       "      <th>2</th>\n",
       "      <td>Gilbert</td>\n",
       "      <td>211.0</td>\n",
       "      <td>82.0</td>\n",
       "      <td>92.0</td>\n",
       "      <td>37.0</td>\n",
       "      <td>11263.0</td>\n",
       "      <td>2176.0</td>\n",
       "      <td>6048.0</td>\n",
       "      <td>3039</td>\n",
       "    </tr>\n",
       "    <tr>\n",
       "      <th>3</th>\n",
       "      <td>Alma</td>\n",
       "      <td>780.0</td>\n",
       "      <td>202.0</td>\n",
       "      <td>507.0</td>\n",
       "      <td>71.0</td>\n",
       "      <td>487.0</td>\n",
       "      <td>171.0</td>\n",
       "      <td>267.0</td>\n",
       "      <td>49</td>\n",
       "    </tr>\n",
       "    <tr>\n",
       "      <th>4</th>\n",
       "      <td>Alma</td>\n",
       "      <td>780.0</td>\n",
       "      <td>202.0</td>\n",
       "      <td>507.0</td>\n",
       "      <td>71.0</td>\n",
       "      <td>476.0</td>\n",
       "      <td>131.0</td>\n",
       "      <td>236.0</td>\n",
       "      <td>109</td>\n",
       "    </tr>\n",
       "    <tr>\n",
       "      <th>...</th>\n",
       "      <td>...</td>\n",
       "      <td>...</td>\n",
       "      <td>...</td>\n",
       "      <td>...</td>\n",
       "      <td>...</td>\n",
       "      <td>...</td>\n",
       "      <td>...</td>\n",
       "      <td>...</td>\n",
       "      <td>...</td>\n",
       "    </tr>\n",
       "    <tr>\n",
       "      <th>11855</th>\n",
       "      <td>Juneau</td>\n",
       "      <td>666.0</td>\n",
       "      <td>118.0</td>\n",
       "      <td>500.0</td>\n",
       "      <td>48.0</td>\n",
       "      <td>530.0</td>\n",
       "      <td>122.0</td>\n",
       "      <td>310.0</td>\n",
       "      <td>98</td>\n",
       "    </tr>\n",
       "    <tr>\n",
       "      <th>11856</th>\n",
       "      <td>Sauk</td>\n",
       "      <td>1265.0</td>\n",
       "      <td>134.0</td>\n",
       "      <td>925.0</td>\n",
       "      <td>206.0</td>\n",
       "      <td>921.0</td>\n",
       "      <td>131.0</td>\n",
       "      <td>513.0</td>\n",
       "      <td>277</td>\n",
       "    </tr>\n",
       "    <tr>\n",
       "      <th>11857</th>\n",
       "      <td>Vilas</td>\n",
       "      <td>374.0</td>\n",
       "      <td>55.0</td>\n",
       "      <td>257.0</td>\n",
       "      <td>62.0</td>\n",
       "      <td>498.0</td>\n",
       "      <td>55.0</td>\n",
       "      <td>196.0</td>\n",
       "      <td>247</td>\n",
       "    </tr>\n",
       "    <tr>\n",
       "      <th>11858</th>\n",
       "      <td>Oneida Tribal</td>\n",
       "      <td>350.0</td>\n",
       "      <td>64.0</td>\n",
       "      <td>191.0</td>\n",
       "      <td>95.0</td>\n",
       "      <td>481.0</td>\n",
       "      <td>51.0</td>\n",
       "      <td>197.0</td>\n",
       "      <td>233</td>\n",
       "    </tr>\n",
       "    <tr>\n",
       "      <th>11859</th>\n",
       "      <td>St. Croix Tribal</td>\n",
       "      <td>134.0</td>\n",
       "      <td>14.0</td>\n",
       "      <td>77.0</td>\n",
       "      <td>43.0</td>\n",
       "      <td>172.0</td>\n",
       "      <td>12.0</td>\n",
       "      <td>40.0</td>\n",
       "      <td>120</td>\n",
       "    </tr>\n",
       "  </tbody>\n",
       "</table>\n",
       "<p>11860 rows × 9 columns</p>\n",
       "</div>"
      ],
      "text/plain": [
       "            Agency Name  Total\\nOffenses_x  Crimes\\nAgainst\\nPersons_x  \\\n",
       "0       Apache Junction             2693.0                       611.0   \n",
       "1               Gilbert            10166.0                      1396.0   \n",
       "2               Gilbert              211.0                        82.0   \n",
       "3                  Alma              780.0                       202.0   \n",
       "4                  Alma              780.0                       202.0   \n",
       "...                 ...                ...                         ...   \n",
       "11855            Juneau              666.0                       118.0   \n",
       "11856              Sauk             1265.0                       134.0   \n",
       "11857             Vilas              374.0                        55.0   \n",
       "11858     Oneida Tribal              350.0                        64.0   \n",
       "11859  St. Croix Tribal              134.0                        14.0   \n",
       "\n",
       "       Crimes\\nAgainst\\nProperty_x  Crimes\\nAgainst\\nSociety_x  \\\n",
       "0                           1748.0                       334.0   \n",
       "1                           6610.0                      2160.0   \n",
       "2                             92.0                        37.0   \n",
       "3                            507.0                        71.0   \n",
       "4                            507.0                        71.0   \n",
       "...                            ...                         ...   \n",
       "11855                        500.0                        48.0   \n",
       "11856                        925.0                       206.0   \n",
       "11857                        257.0                        62.0   \n",
       "11858                        191.0                        95.0   \n",
       "11859                         77.0                        43.0   \n",
       "\n",
       "       Total\\nOffenses_y  Crimes\\nAgainst\\nPersons_y  \\\n",
       "0                 2169.0                       449.0   \n",
       "1                11263.0                      2176.0   \n",
       "2                11263.0                      2176.0   \n",
       "3                  487.0                       171.0   \n",
       "4                  476.0                       131.0   \n",
       "...                  ...                         ...   \n",
       "11855              530.0                       122.0   \n",
       "11856              921.0                       131.0   \n",
       "11857              498.0                        55.0   \n",
       "11858              481.0                        51.0   \n",
       "11859              172.0                        12.0   \n",
       "\n",
       "       Crimes\\nAgainst\\nProperty_y  Crimes\\nAgainst\\nSociety_y  \n",
       "0                           1123.0                         597  \n",
       "1                           6048.0                        3039  \n",
       "2                           6048.0                        3039  \n",
       "3                            267.0                          49  \n",
       "4                            236.0                         109  \n",
       "...                            ...                         ...  \n",
       "11855                        310.0                          98  \n",
       "11856                        513.0                         277  \n",
       "11857                        196.0                         247  \n",
       "11858                        197.0                         233  \n",
       "11859                         40.0                         120  \n",
       "\n",
       "[11860 rows x 9 columns]"
      ]
     },
     "execution_count": 7,
     "metadata": {},
     "output_type": "execute_result"
    }
   ],
   "source": [
    "'''\n",
    " Creates a new dataframe based on the previous two we created in the previous cell. Similar to SQL's \"join\" clause,\n",
    " we combine the dataframe on a value shared between both dataframes. (x,y) characters are appended to duplicate\n",
    " column names.\n",
    "'''\n",
    "\n",
    "df_merged = pd.merge(df_2012, df_2020, on=[\"Agency Name\"])\n",
    "df_merged # prints merged dataframe so we can see what happens"
   ]
  },
  {
   "cell_type": "markdown",
   "id": "285ef3ef",
   "metadata": {},
   "source": [
    "##### Crimes against ... \"x\" represents data from 2012, \"y\" represents data from 2020 "
   ]
  },
  {
   "cell_type": "code",
   "execution_count": 12,
   "id": "5c032f4c",
   "metadata": {},
   "outputs": [
    {
     "data": {
      "text/plain": [
       "0         2693.0\n",
       "1        10166.0\n",
       "2          211.0\n",
       "3          780.0\n",
       "4          780.0\n",
       "          ...   \n",
       "11855      666.0\n",
       "11856     1265.0\n",
       "11857      374.0\n",
       "11858      350.0\n",
       "11859      134.0\n",
       "Name: Total\\nOffenses_x, Length: 11860, dtype: float64"
      ]
     },
     "execution_count": 12,
     "metadata": {},
     "output_type": "execute_result"
    }
   ],
   "source": [
    "'''\n",
    "We create ANOTHER dataframe based on our merged values. I did this so that I can create a scatter matrix without \n",
    "affecting future graphs.\n",
    "''' \n",
    "# Drops row values where (total number of offenses in 2012) < 2000.\n",
    "# Nested df_merged (df_merged['Total\\nOffenses_x']) call returns a LIST of all row values for that column, Total Offenses.\n",
    "# Outer df_merged df_merged[df_merged ... ] call returns a LIST for row values that fit our condition\n",
    "# .index Converts our list of column values into the index value where that value is located in our dataframe.\n",
    "# Drop removes all index values in the provided list\n",
    "df_offenses = df_merged.drop(df_merged[df_merged['Total\\nOffenses_x'] < 2000].index) \n",
    "\n",
    "# same concept as earlier except we use the new df we created to check for 2020 values; inplace saves our changes.\n",
    "df_offenses.drop(df_offenses[df_offenses['Total\\nOffenses_y'] < 2000].index, inplace = True)\n",
    "\n",
    "# plots our graph. figsize controls size of output \n",
    "pd.plotting.scatter_matrix(df_offenses, figsize=(20,20))"
   ]
  },
  {
   "cell_type": "code",
   "execution_count": null,
   "id": "c804bbb6",
   "metadata": {},
   "outputs": [],
   "source": [
    "sb.set(rc={'figure.figsize': (15,30)}) # sets plotting size\n",
    "\n",
    "# Same process as previous cell, except instead of saving the data into a dataframe, we use it as an input parameter \"data\"\n",
    "sb.violinplot(x='Crimes\\nAgainst\\nPersons_x', y='Agency Name', data=df_merged.drop(df_merged[df_merged['Crimes\\nAgainst\\nPersons_x'] < 1250].index))"
   ]
  },
  {
   "cell_type": "code",
   "execution_count": null,
   "id": "7ac0aabd",
   "metadata": {},
   "outputs": [],
   "source": [
    "sb.set(rc={'figure.figsize':(15,30)})\n",
    "sb.violinplot(x='Crimes\\nAgainst\\nPersons_y', y='Agency Name', data=df_merged.drop(df_merged[df_merged['Crimes\\nAgainst\\nPersons_y'] < 1250].index))"
   ]
  },
  {
   "cell_type": "code",
   "execution_count": null,
   "id": "024cca92",
   "metadata": {},
   "outputs": [],
   "source": [
    "sb.set(rc={'figure.figsize':(15,30)})\n",
    "sb.violinplot(x='Crimes\\nAgainst\\nProperty_x', y='Agency Name', data=df_merged.drop(df_merged[df_merged['Crimes\\nAgainst\\nProperty_x'] < 4000 ].index))"
   ]
  },
  {
   "cell_type": "code",
   "execution_count": null,
   "id": "920c015b",
   "metadata": {},
   "outputs": [],
   "source": [
    "sb.set(rc={'figure.figsize':(15,30)})\n",
    "sb.violinplot(x='Crimes\\nAgainst\\nProperty_y', y='Agency Name', data=df_merged.drop(df_merged[df_merged['Crimes\\nAgainst\\nProperty_y'] < 4000].index))"
   ]
  },
  {
   "cell_type": "code",
   "execution_count": null,
   "id": "9cffbb68",
   "metadata": {},
   "outputs": [],
   "source": [
    "sb.set(rc={'figure.figsize':(15,30)})\n",
    "sb.violinplot(x='Crimes\\nAgainst\\nSociety_x', y='Agency Name', data=df_merged.drop(df_merged[df_merged['Crimes\\nAgainst\\nSociety_x'] < 700].index))"
   ]
  },
  {
   "cell_type": "code",
   "execution_count": null,
   "id": "05aa6d32",
   "metadata": {},
   "outputs": [],
   "source": [
    "sb.set(rc={'figure.figsize':(15,30)})\n",
    "sb.violinplot(x='Crimes\\nAgainst\\nSociety_y', y='Agency Name', data=df_merged.drop(df_merged[df_merged['Crimes\\nAgainst\\nSociety_y'] < 800].index))"
   ]
  },
  {
   "cell_type": "markdown",
   "id": "78687178",
   "metadata": {},
   "source": [
    "We use the dataframe that has filtered out the number of total offenses less than a certain value so that we can get a better picture of what is going on in our histogram without having to deal with an extreme amount of skew.\n"
   ]
  },
  {
   "cell_type": "code",
   "execution_count": 13,
   "id": "a0118b08",
   "metadata": {
    "scrolled": true
   },
   "outputs": [
    {
     "data": {
      "text/plain": [
       "array([[<AxesSubplot:title={'center':'Total\\nOffenses_x'}>,\n",
       "        <AxesSubplot:title={'center':'Crimes\\nAgainst\\nPersons_x'}>,\n",
       "        <AxesSubplot:title={'center':'Crimes\\nAgainst\\nProperty_x'}>],\n",
       "       [<AxesSubplot:title={'center':'Crimes\\nAgainst\\nSociety_x'}>,\n",
       "        <AxesSubplot:title={'center':'Total\\nOffenses_y'}>,\n",
       "        <AxesSubplot:title={'center':'Crimes\\nAgainst\\nPersons_y'}>],\n",
       "       [<AxesSubplot:title={'center':'Crimes\\nAgainst\\nProperty_y'}>,\n",
       "        <AxesSubplot:title={'center':'Crimes\\nAgainst\\nSociety_y'}>,\n",
       "        <AxesSubplot:>]], dtype=object)"
      ]
     },
     "execution_count": 13,
     "metadata": {},
     "output_type": "execute_result"
    },
    {
     "data": {
      "image/png": "[encoded data removed]",
      "text/plain": [
       "<Figure size 1440x1440 with 9 Axes>"
      ]
     },
     "metadata": {
      "needs_background": "light"
     },
     "output_type": "display_data"
    }
   ],
   "source": [
    "# reuse offenses df to print histogram, bins control # of columns used to categorize\n",
    "df_offenses.hist(bins=10, figsize=(20,20))"
   ]
  }
 ],
 "metadata": {
  "kernelspec": {
   "display_name": "Python 3 (ipykernel)",
   "language": "python",
   "name": "python3"
  },
  "language_info": {
   "codemirror_mode": {
    "name": "ipython",
    "version": 3
   },
   "file_extension": ".py",
   "mimetype": "text/x-python",
   "name": "python",
   "nbconvert_exporter": "python",
   "pygments_lexer": "ipython3",
   "version": "3.9.7"
  }
 },
 "nbformat": 4,
 "nbformat_minor": 5
}
