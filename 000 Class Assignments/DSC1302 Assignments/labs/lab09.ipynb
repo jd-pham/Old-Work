{
 "cells": [
  {
   "cell_type": "code",
   "execution_count": 41,
   "metadata": {},
   "outputs": [],
   "source": [
    "import numpy as np\n"
   ]
  },
  {
   "cell_type": "code",
   "execution_count": 42,
   "metadata": {},
   "outputs": [
    {
     "data": {
      "text/plain": [
       "array([[ 5,  9,  2],\n",
       "       [ 1,  8,  4],\n",
       "       [ 6, 12,  3],\n",
       "       [10,  7, 11]])"
      ]
     },
     "execution_count": 42,
     "metadata": {},
     "output_type": "execute_result"
    }
   ],
   "source": [
    "# Q1\n",
    "array = [5, 9, 2, 1, 8, 4, 6, 12, 3, 10, 7, 11]\n",
    "\n",
    "array_3d = np.array(array)\n",
    "array_3d = array_3d.reshape(4,3)\n",
    "array_3d\n"
   ]
  },
  {
   "cell_type": "code",
   "execution_count": 43,
   "metadata": {},
   "outputs": [
    {
     "data": {
      "text/plain": [
       "array([[110,  85, 144, 135],\n",
       "       [ 85,  81, 114, 110],\n",
       "       [144, 114, 189, 177],\n",
       "       [135, 110, 177, 270]])"
      ]
     },
     "execution_count": 43,
     "metadata": {},
     "output_type": "execute_result"
    }
   ],
   "source": [
    "# Q2\n",
    "multiplied_array = np.dot(array_3d, array_3d.T)\n",
    "multiplied_array"
   ]
  },
  {
   "cell_type": "code",
   "execution_count": 44,
   "metadata": {},
   "outputs": [
    {
     "name": "stdout",
     "output_type": "stream",
     "text": [
      "before split: [  3   5  23  54  32  45 123  12] \n",
      "\n",
      "after split:\n",
      "[ 3  5 23 54]\n",
      "[ 32  45 123  12]\n"
     ]
    }
   ],
   "source": [
    "# Q3\n",
    "array = np.array([3,5,23,54,32,45,123,12])\n",
    "print('before split:', array, '\\n')\n",
    "split_array = np.split(array, 2)\n",
    "\n",
    "print('after split:')\n",
    "for ele in split_array:\n",
    "    print(ele)\n"
   ]
  }
 ],
 "metadata": {
  "kernelspec": {
   "display_name": "base",
   "language": "python",
   "name": "python3"
  },
  "language_info": {
   "codemirror_mode": {
    "name": "ipython",
    "version": 3
   },
   "file_extension": ".py",
   "mimetype": "text/x-python",
   "name": "python",
   "nbconvert_exporter": "python",
   "pygments_lexer": "ipython3",
   "version": "3.9.13 (main, Aug 25 2022, 23:26:10) \n[GCC 11.2.0]"
  },
  "orig_nbformat": 4,
  "vscode": {
   "interpreter": {
    "hash": "2796f898c241be261d17d4440712f4c58a6e72713839fe7ec4d10cc08aa00573"
   }
  }
 },
 "nbformat": 4,
 "nbformat_minor": 2
}
