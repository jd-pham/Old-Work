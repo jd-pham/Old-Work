{
 "cells": [
  {
   "cell_type": "code",
   "execution_count": 2,
   "metadata": {},
   "outputs": [],
   "source": [
    "import os\n",
    "import shutil"
   ]
  },
  {
   "cell_type": "code",
   "execution_count": 46,
   "metadata": {},
   "outputs": [],
   "source": [
    "os.chdir('c:\\\\Users\\\\pjame\\\\OneDrive\\\\Documents\\\\GitHub\\\\CS\\\\Current\\\\001 Deep Learning\\\\project')"
   ]
  },
  {
   "cell_type": "code",
   "execution_count": 70,
   "metadata": {},
   "outputs": [
    {
     "name": "stdout",
     "output_type": "stream",
     "text": [
      "c:\\Users\\pjame\\OneDrive\\Documents\\GitHub\\CS\\Current\\001 Deep Learning\\project/dataset/\\gyroplane\n",
      "c:\\Users\\pjame\\OneDrive\\Documents\\GitHub\\CS\\Current\\001 Deep Learning\\project/dataset/\\gyroplane\\1.jpg\n",
      " c:\\Users\\pjame\\OneDrive\\Documents\\GitHub\\CS\\Current\\001 Deep Learning\\project/dataset/\\helicopter\\145.jpg\n",
      "c:\\Users\\pjame\\OneDrive\\Documents\\GitHub\\CS\\Current\\001 Deep Learning\\project/dataset/\\gyroplane\\10.jpg\n",
      " c:\\Users\\pjame\\OneDrive\\Documents\\GitHub\\CS\\Current\\001 Deep Learning\\project/dataset/\\helicopter\\146.jpg\n",
      "c:\\Users\\pjame\\OneDrive\\Documents\\GitHub\\CS\\Current\\001 Deep Learning\\project/dataset/\\gyroplane\\100.jpg\n",
      " c:\\Users\\pjame\\OneDrive\\Documents\\GitHub\\CS\\Current\\001 Deep Learning\\project/dataset/\\helicopter\\147.jpg\n",
      "c:\\Users\\pjame\\OneDrive\\Documents\\GitHub\\CS\\Current\\001 Deep Learning\\project/dataset/\\gyroplane\\101.jpg\n",
      " c:\\Users\\pjame\\OneDrive\\Documents\\GitHub\\CS\\Current\\001 Deep Learning\\project/dataset/\\helicopter\\148.jpg\n",
      "c:\\Users\\pjame\\OneDrive\\Documents\\GitHub\\CS\\Current\\001 Deep Learning\\project/dataset/\\gyroplane\\102.jpg\n",
      " c:\\Users\\pjame\\OneDrive\\Documents\\GitHub\\CS\\Current\\001 Deep Learning\\project/dataset/\\helicopter\\149.jpg\n",
      "c:\\Users\\pjame\\OneDrive\\Documents\\GitHub\\CS\\Current\\001 Deep Learning\\project/dataset/\\gyroplane\\103.jpg\n",
      " c:\\Users\\pjame\\OneDrive\\Documents\\GitHub\\CS\\Current\\001 Deep Learning\\project/dataset/\\helicopter\\150.jpg\n",
      "c:\\Users\\pjame\\OneDrive\\Documents\\GitHub\\CS\\Current\\001 Deep Learning\\project/dataset/\\gyroplane\\104.jpg\n",
      " c:\\Users\\pjame\\OneDrive\\Documents\\GitHub\\CS\\Current\\001 Deep Learning\\project/dataset/\\helicopter\\151.jpg\n",
      "c:\\Users\\pjame\\OneDrive\\Documents\\GitHub\\CS\\Current\\001 Deep Learning\\project/dataset/\\gyroplane\\105.jpg\n",
      " c:\\Users\\pjame\\OneDrive\\Documents\\GitHub\\CS\\Current\\001 Deep Learning\\project/dataset/\\helicopter\\152.jpg\n",
      "c:\\Users\\pjame\\OneDrive\\Documents\\GitHub\\CS\\Current\\001 Deep Learning\\project/dataset/\\gyroplane\\106.jpg\n",
      " c:\\Users\\pjame\\OneDrive\\Documents\\GitHub\\CS\\Current\\001 Deep Learning\\project/dataset/\\helicopter\\153.jpg\n",
      "c:\\Users\\pjame\\OneDrive\\Documents\\GitHub\\CS\\Current\\001 Deep Learning\\project/dataset/\\gyroplane\\108.jpg\n",
      " c:\\Users\\pjame\\OneDrive\\Documents\\GitHub\\CS\\Current\\001 Deep Learning\\project/dataset/\\helicopter\\154.jpg\n",
      "c:\\Users\\pjame\\OneDrive\\Documents\\GitHub\\CS\\Current\\001 Deep Learning\\project/dataset/\\gyroplane\\109.jpg\n",
      " c:\\Users\\pjame\\OneDrive\\Documents\\GitHub\\CS\\Current\\001 Deep Learning\\project/dataset/\\helicopter\\155.jpg\n",
      "c:\\Users\\pjame\\OneDrive\\Documents\\GitHub\\CS\\Current\\001 Deep Learning\\project/dataset/\\gyroplane\\11.jpg\n",
      " c:\\Users\\pjame\\OneDrive\\Documents\\GitHub\\CS\\Current\\001 Deep Learning\\project/dataset/\\helicopter\\156.jpg\n",
      "c:\\Users\\pjame\\OneDrive\\Documents\\GitHub\\CS\\Current\\001 Deep Learning\\project/dataset/\\gyroplane\\111.jpg\n",
      " c:\\Users\\pjame\\OneDrive\\Documents\\GitHub\\CS\\Current\\001 Deep Learning\\project/dataset/\\helicopter\\157.jpg\n",
      "c:\\Users\\pjame\\OneDrive\\Documents\\GitHub\\CS\\Current\\001 Deep Learning\\project/dataset/\\gyroplane\\112.jpg\n",
      " c:\\Users\\pjame\\OneDrive\\Documents\\GitHub\\CS\\Current\\001 Deep Learning\\project/dataset/\\helicopter\\158.jpg\n",
      "c:\\Users\\pjame\\OneDrive\\Documents\\GitHub\\CS\\Current\\001 Deep Learning\\project/dataset/\\gyroplane\\114.jpg\n",
      " c:\\Users\\pjame\\OneDrive\\Documents\\GitHub\\CS\\Current\\001 Deep Learning\\project/dataset/\\helicopter\\159.jpg\n",
      "c:\\Users\\pjame\\OneDrive\\Documents\\GitHub\\CS\\Current\\001 Deep Learning\\project/dataset/\\gyroplane\\116.jpg\n",
      " c:\\Users\\pjame\\OneDrive\\Documents\\GitHub\\CS\\Current\\001 Deep Learning\\project/dataset/\\helicopter\\160.jpg\n",
      "c:\\Users\\pjame\\OneDrive\\Documents\\GitHub\\CS\\Current\\001 Deep Learning\\project/dataset/\\gyroplane\\117.jpg\n",
      " c:\\Users\\pjame\\OneDrive\\Documents\\GitHub\\CS\\Current\\001 Deep Learning\\project/dataset/\\helicopter\\161.jpg\n",
      "c:\\Users\\pjame\\OneDrive\\Documents\\GitHub\\CS\\Current\\001 Deep Learning\\project/dataset/\\gyroplane\\118.jpg\n",
      " c:\\Users\\pjame\\OneDrive\\Documents\\GitHub\\CS\\Current\\001 Deep Learning\\project/dataset/\\helicopter\\162.jpg\n",
      "c:\\Users\\pjame\\OneDrive\\Documents\\GitHub\\CS\\Current\\001 Deep Learning\\project/dataset/\\gyroplane\\12.jpg\n",
      " c:\\Users\\pjame\\OneDrive\\Documents\\GitHub\\CS\\Current\\001 Deep Learning\\project/dataset/\\helicopter\\163.jpg\n",
      "c:\\Users\\pjame\\OneDrive\\Documents\\GitHub\\CS\\Current\\001 Deep Learning\\project/dataset/\\gyroplane\\120.jpeg\n",
      " c:\\Users\\pjame\\OneDrive\\Documents\\GitHub\\CS\\Current\\001 Deep Learning\\project/dataset/\\helicopter\\164.jpg\n",
      "c:\\Users\\pjame\\OneDrive\\Documents\\GitHub\\CS\\Current\\001 Deep Learning\\project/dataset/\\gyroplane\\121.jpg\n",
      " c:\\Users\\pjame\\OneDrive\\Documents\\GitHub\\CS\\Current\\001 Deep Learning\\project/dataset/\\helicopter\\165.jpg\n",
      "c:\\Users\\pjame\\OneDrive\\Documents\\GitHub\\CS\\Current\\001 Deep Learning\\project/dataset/\\gyroplane\\122.jpg\n",
      " c:\\Users\\pjame\\OneDrive\\Documents\\GitHub\\CS\\Current\\001 Deep Learning\\project/dataset/\\helicopter\\166.jpg\n",
      "c:\\Users\\pjame\\OneDrive\\Documents\\GitHub\\CS\\Current\\001 Deep Learning\\project/dataset/\\gyroplane\\123.jpg\n",
      " c:\\Users\\pjame\\OneDrive\\Documents\\GitHub\\CS\\Current\\001 Deep Learning\\project/dataset/\\helicopter\\167.jpg\n",
      "c:\\Users\\pjame\\OneDrive\\Documents\\GitHub\\CS\\Current\\001 Deep Learning\\project/dataset/\\gyroplane\\125.jpg\n",
      " c:\\Users\\pjame\\OneDrive\\Documents\\GitHub\\CS\\Current\\001 Deep Learning\\project/dataset/\\helicopter\\168.jpg\n",
      "c:\\Users\\pjame\\OneDrive\\Documents\\GitHub\\CS\\Current\\001 Deep Learning\\project/dataset/\\gyroplane\\126.jpg\n",
      " c:\\Users\\pjame\\OneDrive\\Documents\\GitHub\\CS\\Current\\001 Deep Learning\\project/dataset/\\helicopter\\169.jpg\n",
      "c:\\Users\\pjame\\OneDrive\\Documents\\GitHub\\CS\\Current\\001 Deep Learning\\project/dataset/\\gyroplane\\127.jpg\n",
      " c:\\Users\\pjame\\OneDrive\\Documents\\GitHub\\CS\\Current\\001 Deep Learning\\project/dataset/\\helicopter\\170.jpg\n",
      "c:\\Users\\pjame\\OneDrive\\Documents\\GitHub\\CS\\Current\\001 Deep Learning\\project/dataset/\\gyroplane\\128.jpg\n",
      " c:\\Users\\pjame\\OneDrive\\Documents\\GitHub\\CS\\Current\\001 Deep Learning\\project/dataset/\\helicopter\\171.jpg\n",
      "c:\\Users\\pjame\\OneDrive\\Documents\\GitHub\\CS\\Current\\001 Deep Learning\\project/dataset/\\gyroplane\\13.jpg\n",
      " c:\\Users\\pjame\\OneDrive\\Documents\\GitHub\\CS\\Current\\001 Deep Learning\\project/dataset/\\helicopter\\172.jpg\n",
      "c:\\Users\\pjame\\OneDrive\\Documents\\GitHub\\CS\\Current\\001 Deep Learning\\project/dataset/\\gyroplane\\130.jpg\n",
      " c:\\Users\\pjame\\OneDrive\\Documents\\GitHub\\CS\\Current\\001 Deep Learning\\project/dataset/\\helicopter\\173.jpg\n",
      "c:\\Users\\pjame\\OneDrive\\Documents\\GitHub\\CS\\Current\\001 Deep Learning\\project/dataset/\\gyroplane\\131.jpg\n",
      " c:\\Users\\pjame\\OneDrive\\Documents\\GitHub\\CS\\Current\\001 Deep Learning\\project/dataset/\\helicopter\\174.jpg\n",
      "c:\\Users\\pjame\\OneDrive\\Documents\\GitHub\\CS\\Current\\001 Deep Learning\\project/dataset/\\gyroplane\\132.jpg\n",
      " c:\\Users\\pjame\\OneDrive\\Documents\\GitHub\\CS\\Current\\001 Deep Learning\\project/dataset/\\helicopter\\175.jpg\n",
      "c:\\Users\\pjame\\OneDrive\\Documents\\GitHub\\CS\\Current\\001 Deep Learning\\project/dataset/\\gyroplane\\133.jpg\n",
      " c:\\Users\\pjame\\OneDrive\\Documents\\GitHub\\CS\\Current\\001 Deep Learning\\project/dataset/\\helicopter\\176.jpg\n",
      "c:\\Users\\pjame\\OneDrive\\Documents\\GitHub\\CS\\Current\\001 Deep Learning\\project/dataset/\\gyroplane\\134.jpg\n",
      " c:\\Users\\pjame\\OneDrive\\Documents\\GitHub\\CS\\Current\\001 Deep Learning\\project/dataset/\\helicopter\\177.jpg\n",
      "c:\\Users\\pjame\\OneDrive\\Documents\\GitHub\\CS\\Current\\001 Deep Learning\\project/dataset/\\gyroplane\\135.jpg\n",
      " c:\\Users\\pjame\\OneDrive\\Documents\\GitHub\\CS\\Current\\001 Deep Learning\\project/dataset/\\helicopter\\178.jpg\n",
      "c:\\Users\\pjame\\OneDrive\\Documents\\GitHub\\CS\\Current\\001 Deep Learning\\project/dataset/\\gyroplane\\136.jpg\n",
      " c:\\Users\\pjame\\OneDrive\\Documents\\GitHub\\CS\\Current\\001 Deep Learning\\project/dataset/\\helicopter\\179.jpg\n",
      "c:\\Users\\pjame\\OneDrive\\Documents\\GitHub\\CS\\Current\\001 Deep Learning\\project/dataset/\\gyroplane\\137.jpg\n",
      " c:\\Users\\pjame\\OneDrive\\Documents\\GitHub\\CS\\Current\\001 Deep Learning\\project/dataset/\\helicopter\\180.jpg\n",
      "c:\\Users\\pjame\\OneDrive\\Documents\\GitHub\\CS\\Current\\001 Deep Learning\\project/dataset/\\gyroplane\\138.jpg\n",
      " c:\\Users\\pjame\\OneDrive\\Documents\\GitHub\\CS\\Current\\001 Deep Learning\\project/dataset/\\helicopter\\181.jpg\n",
      "c:\\Users\\pjame\\OneDrive\\Documents\\GitHub\\CS\\Current\\001 Deep Learning\\project/dataset/\\gyroplane\\139.jpg\n",
      " c:\\Users\\pjame\\OneDrive\\Documents\\GitHub\\CS\\Current\\001 Deep Learning\\project/dataset/\\helicopter\\182.jpg\n",
      "c:\\Users\\pjame\\OneDrive\\Documents\\GitHub\\CS\\Current\\001 Deep Learning\\project/dataset/\\gyroplane\\14.jpg\n",
      " c:\\Users\\pjame\\OneDrive\\Documents\\GitHub\\CS\\Current\\001 Deep Learning\\project/dataset/\\helicopter\\183.jpg\n",
      "c:\\Users\\pjame\\OneDrive\\Documents\\GitHub\\CS\\Current\\001 Deep Learning\\project/dataset/\\gyroplane\\140.jpg\n",
      " c:\\Users\\pjame\\OneDrive\\Documents\\GitHub\\CS\\Current\\001 Deep Learning\\project/dataset/\\helicopter\\184.jpg\n",
      "c:\\Users\\pjame\\OneDrive\\Documents\\GitHub\\CS\\Current\\001 Deep Learning\\project/dataset/\\gyroplane\\141.jpg\n",
      " c:\\Users\\pjame\\OneDrive\\Documents\\GitHub\\CS\\Current\\001 Deep Learning\\project/dataset/\\helicopter\\185.jpg\n",
      "c:\\Users\\pjame\\OneDrive\\Documents\\GitHub\\CS\\Current\\001 Deep Learning\\project/dataset/\\gyroplane\\142.jpg\n",
      " c:\\Users\\pjame\\OneDrive\\Documents\\GitHub\\CS\\Current\\001 Deep Learning\\project/dataset/\\helicopter\\186.jpg\n",
      "c:\\Users\\pjame\\OneDrive\\Documents\\GitHub\\CS\\Current\\001 Deep Learning\\project/dataset/\\gyroplane\\143.jpg\n",
      " c:\\Users\\pjame\\OneDrive\\Documents\\GitHub\\CS\\Current\\001 Deep Learning\\project/dataset/\\helicopter\\187.jpg\n",
      "c:\\Users\\pjame\\OneDrive\\Documents\\GitHub\\CS\\Current\\001 Deep Learning\\project/dataset/\\gyroplane\\144.jpg\n",
      " c:\\Users\\pjame\\OneDrive\\Documents\\GitHub\\CS\\Current\\001 Deep Learning\\project/dataset/\\helicopter\\188.jpg\n",
      "c:\\Users\\pjame\\OneDrive\\Documents\\GitHub\\CS\\Current\\001 Deep Learning\\project/dataset/\\gyroplane\\146.jpg\n",
      " c:\\Users\\pjame\\OneDrive\\Documents\\GitHub\\CS\\Current\\001 Deep Learning\\project/dataset/\\helicopter\\189.jpg\n",
      "c:\\Users\\pjame\\OneDrive\\Documents\\GitHub\\CS\\Current\\001 Deep Learning\\project/dataset/\\gyroplane\\147.jpg\n",
      " c:\\Users\\pjame\\OneDrive\\Documents\\GitHub\\CS\\Current\\001 Deep Learning\\project/dataset/\\helicopter\\190.jpg\n",
      "c:\\Users\\pjame\\OneDrive\\Documents\\GitHub\\CS\\Current\\001 Deep Learning\\project/dataset/\\gyroplane\\148.jpg\n",
      " c:\\Users\\pjame\\OneDrive\\Documents\\GitHub\\CS\\Current\\001 Deep Learning\\project/dataset/\\helicopter\\191.jpg\n",
      "c:\\Users\\pjame\\OneDrive\\Documents\\GitHub\\CS\\Current\\001 Deep Learning\\project/dataset/\\gyroplane\\149.jpg\n",
      " c:\\Users\\pjame\\OneDrive\\Documents\\GitHub\\CS\\Current\\001 Deep Learning\\project/dataset/\\helicopter\\192.jpg\n",
      "c:\\Users\\pjame\\OneDrive\\Documents\\GitHub\\CS\\Current\\001 Deep Learning\\project/dataset/\\gyroplane\\15.jpg\n",
      " c:\\Users\\pjame\\OneDrive\\Documents\\GitHub\\CS\\Current\\001 Deep Learning\\project/dataset/\\helicopter\\193.jpg\n",
      "c:\\Users\\pjame\\OneDrive\\Documents\\GitHub\\CS\\Current\\001 Deep Learning\\project/dataset/\\gyroplane\\16.jpg\n",
      " c:\\Users\\pjame\\OneDrive\\Documents\\GitHub\\CS\\Current\\001 Deep Learning\\project/dataset/\\helicopter\\194.jpg\n",
      "c:\\Users\\pjame\\OneDrive\\Documents\\GitHub\\CS\\Current\\001 Deep Learning\\project/dataset/\\gyroplane\\17.jpg\n",
      " c:\\Users\\pjame\\OneDrive\\Documents\\GitHub\\CS\\Current\\001 Deep Learning\\project/dataset/\\helicopter\\195.jpg\n",
      "c:\\Users\\pjame\\OneDrive\\Documents\\GitHub\\CS\\Current\\001 Deep Learning\\project/dataset/\\gyroplane\\18.jpg\n",
      " c:\\Users\\pjame\\OneDrive\\Documents\\GitHub\\CS\\Current\\001 Deep Learning\\project/dataset/\\helicopter\\196.jpg\n",
      "c:\\Users\\pjame\\OneDrive\\Documents\\GitHub\\CS\\Current\\001 Deep Learning\\project/dataset/\\gyroplane\\19.jpg\n",
      " c:\\Users\\pjame\\OneDrive\\Documents\\GitHub\\CS\\Current\\001 Deep Learning\\project/dataset/\\helicopter\\197.jpg\n",
      "c:\\Users\\pjame\\OneDrive\\Documents\\GitHub\\CS\\Current\\001 Deep Learning\\project/dataset/\\gyroplane\\2.jpg\n",
      " c:\\Users\\pjame\\OneDrive\\Documents\\GitHub\\CS\\Current\\001 Deep Learning\\project/dataset/\\helicopter\\198.jpg\n",
      "c:\\Users\\pjame\\OneDrive\\Documents\\GitHub\\CS\\Current\\001 Deep Learning\\project/dataset/\\gyroplane\\20.jpg\n",
      " c:\\Users\\pjame\\OneDrive\\Documents\\GitHub\\CS\\Current\\001 Deep Learning\\project/dataset/\\helicopter\\199.jpg\n",
      "c:\\Users\\pjame\\OneDrive\\Documents\\GitHub\\CS\\Current\\001 Deep Learning\\project/dataset/\\gyroplane\\21.jpg\n",
      " c:\\Users\\pjame\\OneDrive\\Documents\\GitHub\\CS\\Current\\001 Deep Learning\\project/dataset/\\helicopter\\200.jpg\n",
      "c:\\Users\\pjame\\OneDrive\\Documents\\GitHub\\CS\\Current\\001 Deep Learning\\project/dataset/\\gyroplane\\22.jpg\n",
      " c:\\Users\\pjame\\OneDrive\\Documents\\GitHub\\CS\\Current\\001 Deep Learning\\project/dataset/\\helicopter\\201.jpg\n",
      "c:\\Users\\pjame\\OneDrive\\Documents\\GitHub\\CS\\Current\\001 Deep Learning\\project/dataset/\\gyroplane\\24.jpg\n",
      " c:\\Users\\pjame\\OneDrive\\Documents\\GitHub\\CS\\Current\\001 Deep Learning\\project/dataset/\\helicopter\\202.jpg\n",
      "c:\\Users\\pjame\\OneDrive\\Documents\\GitHub\\CS\\Current\\001 Deep Learning\\project/dataset/\\gyroplane\\25.jpg\n",
      " c:\\Users\\pjame\\OneDrive\\Documents\\GitHub\\CS\\Current\\001 Deep Learning\\project/dataset/\\helicopter\\203.jpg\n",
      "c:\\Users\\pjame\\OneDrive\\Documents\\GitHub\\CS\\Current\\001 Deep Learning\\project/dataset/\\gyroplane\\28.jpg\n",
      " c:\\Users\\pjame\\OneDrive\\Documents\\GitHub\\CS\\Current\\001 Deep Learning\\project/dataset/\\helicopter\\204.jpg\n",
      "c:\\Users\\pjame\\OneDrive\\Documents\\GitHub\\CS\\Current\\001 Deep Learning\\project/dataset/\\gyroplane\\29.jpg\n",
      " c:\\Users\\pjame\\OneDrive\\Documents\\GitHub\\CS\\Current\\001 Deep Learning\\project/dataset/\\helicopter\\205.jpg\n",
      "c:\\Users\\pjame\\OneDrive\\Documents\\GitHub\\CS\\Current\\001 Deep Learning\\project/dataset/\\gyroplane\\3.jpg\n",
      " c:\\Users\\pjame\\OneDrive\\Documents\\GitHub\\CS\\Current\\001 Deep Learning\\project/dataset/\\helicopter\\206.jpg\n",
      "c:\\Users\\pjame\\OneDrive\\Documents\\GitHub\\CS\\Current\\001 Deep Learning\\project/dataset/\\gyroplane\\30.jpg\n",
      " c:\\Users\\pjame\\OneDrive\\Documents\\GitHub\\CS\\Current\\001 Deep Learning\\project/dataset/\\helicopter\\207.jpg\n",
      "c:\\Users\\pjame\\OneDrive\\Documents\\GitHub\\CS\\Current\\001 Deep Learning\\project/dataset/\\gyroplane\\32.jpg\n",
      " c:\\Users\\pjame\\OneDrive\\Documents\\GitHub\\CS\\Current\\001 Deep Learning\\project/dataset/\\helicopter\\208.jpg\n",
      "c:\\Users\\pjame\\OneDrive\\Documents\\GitHub\\CS\\Current\\001 Deep Learning\\project/dataset/\\gyroplane\\33.jpg\n",
      " c:\\Users\\pjame\\OneDrive\\Documents\\GitHub\\CS\\Current\\001 Deep Learning\\project/dataset/\\helicopter\\209.jpg\n",
      "c:\\Users\\pjame\\OneDrive\\Documents\\GitHub\\CS\\Current\\001 Deep Learning\\project/dataset/\\gyroplane\\35.jpg\n",
      " c:\\Users\\pjame\\OneDrive\\Documents\\GitHub\\CS\\Current\\001 Deep Learning\\project/dataset/\\helicopter\\210.jpg\n",
      "c:\\Users\\pjame\\OneDrive\\Documents\\GitHub\\CS\\Current\\001 Deep Learning\\project/dataset/\\gyroplane\\36.jpg\n",
      " c:\\Users\\pjame\\OneDrive\\Documents\\GitHub\\CS\\Current\\001 Deep Learning\\project/dataset/\\helicopter\\211.jpg\n",
      "c:\\Users\\pjame\\OneDrive\\Documents\\GitHub\\CS\\Current\\001 Deep Learning\\project/dataset/\\gyroplane\\37.jpg\n",
      " c:\\Users\\pjame\\OneDrive\\Documents\\GitHub\\CS\\Current\\001 Deep Learning\\project/dataset/\\helicopter\\212.jpg\n",
      "c:\\Users\\pjame\\OneDrive\\Documents\\GitHub\\CS\\Current\\001 Deep Learning\\project/dataset/\\gyroplane\\38.jpg\n",
      " c:\\Users\\pjame\\OneDrive\\Documents\\GitHub\\CS\\Current\\001 Deep Learning\\project/dataset/\\helicopter\\213.jpg\n",
      "c:\\Users\\pjame\\OneDrive\\Documents\\GitHub\\CS\\Current\\001 Deep Learning\\project/dataset/\\gyroplane\\4.jpg\n",
      " c:\\Users\\pjame\\OneDrive\\Documents\\GitHub\\CS\\Current\\001 Deep Learning\\project/dataset/\\helicopter\\214.jpg\n",
      "c:\\Users\\pjame\\OneDrive\\Documents\\GitHub\\CS\\Current\\001 Deep Learning\\project/dataset/\\gyroplane\\40.jpg\n",
      " c:\\Users\\pjame\\OneDrive\\Documents\\GitHub\\CS\\Current\\001 Deep Learning\\project/dataset/\\helicopter\\215.jpg\n",
      "c:\\Users\\pjame\\OneDrive\\Documents\\GitHub\\CS\\Current\\001 Deep Learning\\project/dataset/\\gyroplane\\42.jpg\n",
      " c:\\Users\\pjame\\OneDrive\\Documents\\GitHub\\CS\\Current\\001 Deep Learning\\project/dataset/\\helicopter\\216.jpg\n",
      "c:\\Users\\pjame\\OneDrive\\Documents\\GitHub\\CS\\Current\\001 Deep Learning\\project/dataset/\\gyroplane\\44.jpg\n",
      " c:\\Users\\pjame\\OneDrive\\Documents\\GitHub\\CS\\Current\\001 Deep Learning\\project/dataset/\\helicopter\\217.jpg\n",
      "c:\\Users\\pjame\\OneDrive\\Documents\\GitHub\\CS\\Current\\001 Deep Learning\\project/dataset/\\gyroplane\\46.jpg\n",
      " c:\\Users\\pjame\\OneDrive\\Documents\\GitHub\\CS\\Current\\001 Deep Learning\\project/dataset/\\helicopter\\218.jpg\n",
      "c:\\Users\\pjame\\OneDrive\\Documents\\GitHub\\CS\\Current\\001 Deep Learning\\project/dataset/\\gyroplane\\5.jpg\n",
      " c:\\Users\\pjame\\OneDrive\\Documents\\GitHub\\CS\\Current\\001 Deep Learning\\project/dataset/\\helicopter\\219.jpg\n",
      "c:\\Users\\pjame\\OneDrive\\Documents\\GitHub\\CS\\Current\\001 Deep Learning\\project/dataset/\\gyroplane\\51.jpg\n",
      " c:\\Users\\pjame\\OneDrive\\Documents\\GitHub\\CS\\Current\\001 Deep Learning\\project/dataset/\\helicopter\\220.jpg\n",
      "c:\\Users\\pjame\\OneDrive\\Documents\\GitHub\\CS\\Current\\001 Deep Learning\\project/dataset/\\gyroplane\\52.jpg\n",
      " c:\\Users\\pjame\\OneDrive\\Documents\\GitHub\\CS\\Current\\001 Deep Learning\\project/dataset/\\helicopter\\221.jpg\n",
      "c:\\Users\\pjame\\OneDrive\\Documents\\GitHub\\CS\\Current\\001 Deep Learning\\project/dataset/\\gyroplane\\53.jpg\n",
      " c:\\Users\\pjame\\OneDrive\\Documents\\GitHub\\CS\\Current\\001 Deep Learning\\project/dataset/\\helicopter\\222.jpg\n",
      "c:\\Users\\pjame\\OneDrive\\Documents\\GitHub\\CS\\Current\\001 Deep Learning\\project/dataset/\\gyroplane\\6.jpg\n",
      " c:\\Users\\pjame\\OneDrive\\Documents\\GitHub\\CS\\Current\\001 Deep Learning\\project/dataset/\\helicopter\\223.jpg\n",
      "c:\\Users\\pjame\\OneDrive\\Documents\\GitHub\\CS\\Current\\001 Deep Learning\\project/dataset/\\gyroplane\\61.jpg\n",
      " c:\\Users\\pjame\\OneDrive\\Documents\\GitHub\\CS\\Current\\001 Deep Learning\\project/dataset/\\helicopter\\224.jpg\n",
      "c:\\Users\\pjame\\OneDrive\\Documents\\GitHub\\CS\\Current\\001 Deep Learning\\project/dataset/\\gyroplane\\64.jpg\n",
      " c:\\Users\\pjame\\OneDrive\\Documents\\GitHub\\CS\\Current\\001 Deep Learning\\project/dataset/\\helicopter\\225.jpg\n",
      "c:\\Users\\pjame\\OneDrive\\Documents\\GitHub\\CS\\Current\\001 Deep Learning\\project/dataset/\\gyroplane\\66.jpg\n",
      " c:\\Users\\pjame\\OneDrive\\Documents\\GitHub\\CS\\Current\\001 Deep Learning\\project/dataset/\\helicopter\\226.jpg\n",
      "c:\\Users\\pjame\\OneDrive\\Documents\\GitHub\\CS\\Current\\001 Deep Learning\\project/dataset/\\gyroplane\\67.jpg\n",
      " c:\\Users\\pjame\\OneDrive\\Documents\\GitHub\\CS\\Current\\001 Deep Learning\\project/dataset/\\helicopter\\227.jpg\n",
      "c:\\Users\\pjame\\OneDrive\\Documents\\GitHub\\CS\\Current\\001 Deep Learning\\project/dataset/\\gyroplane\\69.jpg\n",
      " c:\\Users\\pjame\\OneDrive\\Documents\\GitHub\\CS\\Current\\001 Deep Learning\\project/dataset/\\helicopter\\228.jpg\n",
      "c:\\Users\\pjame\\OneDrive\\Documents\\GitHub\\CS\\Current\\001 Deep Learning\\project/dataset/\\gyroplane\\7.jpg\n",
      " c:\\Users\\pjame\\OneDrive\\Documents\\GitHub\\CS\\Current\\001 Deep Learning\\project/dataset/\\helicopter\\229.jpg\n",
      "c:\\Users\\pjame\\OneDrive\\Documents\\GitHub\\CS\\Current\\001 Deep Learning\\project/dataset/\\gyroplane\\72.jpg\n",
      " c:\\Users\\pjame\\OneDrive\\Documents\\GitHub\\CS\\Current\\001 Deep Learning\\project/dataset/\\helicopter\\230.jpg\n",
      "c:\\Users\\pjame\\OneDrive\\Documents\\GitHub\\CS\\Current\\001 Deep Learning\\project/dataset/\\gyroplane\\73.jpg\n",
      " c:\\Users\\pjame\\OneDrive\\Documents\\GitHub\\CS\\Current\\001 Deep Learning\\project/dataset/\\helicopter\\231.jpg\n",
      "c:\\Users\\pjame\\OneDrive\\Documents\\GitHub\\CS\\Current\\001 Deep Learning\\project/dataset/\\gyroplane\\76.jpg\n",
      " c:\\Users\\pjame\\OneDrive\\Documents\\GitHub\\CS\\Current\\001 Deep Learning\\project/dataset/\\helicopter\\232.jpg\n",
      "c:\\Users\\pjame\\OneDrive\\Documents\\GitHub\\CS\\Current\\001 Deep Learning\\project/dataset/\\gyroplane\\77.jpg\n",
      " c:\\Users\\pjame\\OneDrive\\Documents\\GitHub\\CS\\Current\\001 Deep Learning\\project/dataset/\\helicopter\\233.jpg\n",
      "c:\\Users\\pjame\\OneDrive\\Documents\\GitHub\\CS\\Current\\001 Deep Learning\\project/dataset/\\gyroplane\\78.jpg\n",
      " c:\\Users\\pjame\\OneDrive\\Documents\\GitHub\\CS\\Current\\001 Deep Learning\\project/dataset/\\helicopter\\234.jpg\n",
      "c:\\Users\\pjame\\OneDrive\\Documents\\GitHub\\CS\\Current\\001 Deep Learning\\project/dataset/\\gyroplane\\79.jpg\n",
      " c:\\Users\\pjame\\OneDrive\\Documents\\GitHub\\CS\\Current\\001 Deep Learning\\project/dataset/\\helicopter\\235.jpg\n",
      "c:\\Users\\pjame\\OneDrive\\Documents\\GitHub\\CS\\Current\\001 Deep Learning\\project/dataset/\\gyroplane\\8.jpg\n",
      " c:\\Users\\pjame\\OneDrive\\Documents\\GitHub\\CS\\Current\\001 Deep Learning\\project/dataset/\\helicopter\\236.jpg\n",
      "c:\\Users\\pjame\\OneDrive\\Documents\\GitHub\\CS\\Current\\001 Deep Learning\\project/dataset/\\gyroplane\\80.jpg\n",
      " c:\\Users\\pjame\\OneDrive\\Documents\\GitHub\\CS\\Current\\001 Deep Learning\\project/dataset/\\helicopter\\237.jpg\n",
      "c:\\Users\\pjame\\OneDrive\\Documents\\GitHub\\CS\\Current\\001 Deep Learning\\project/dataset/\\gyroplane\\85.jpg\n",
      " c:\\Users\\pjame\\OneDrive\\Documents\\GitHub\\CS\\Current\\001 Deep Learning\\project/dataset/\\helicopter\\238.jpg\n",
      "c:\\Users\\pjame\\OneDrive\\Documents\\GitHub\\CS\\Current\\001 Deep Learning\\project/dataset/\\gyroplane\\87.jpg\n",
      " c:\\Users\\pjame\\OneDrive\\Documents\\GitHub\\CS\\Current\\001 Deep Learning\\project/dataset/\\helicopter\\239.jpg\n",
      "c:\\Users\\pjame\\OneDrive\\Documents\\GitHub\\CS\\Current\\001 Deep Learning\\project/dataset/\\gyroplane\\88.jpg\n",
      " c:\\Users\\pjame\\OneDrive\\Documents\\GitHub\\CS\\Current\\001 Deep Learning\\project/dataset/\\helicopter\\240.jpg\n",
      "c:\\Users\\pjame\\OneDrive\\Documents\\GitHub\\CS\\Current\\001 Deep Learning\\project/dataset/\\gyroplane\\9.jpg\n",
      " c:\\Users\\pjame\\OneDrive\\Documents\\GitHub\\CS\\Current\\001 Deep Learning\\project/dataset/\\helicopter\\241.jpg\n",
      "c:\\Users\\pjame\\OneDrive\\Documents\\GitHub\\CS\\Current\\001 Deep Learning\\project/dataset/\\gyroplane\\90.jpg\n",
      " c:\\Users\\pjame\\OneDrive\\Documents\\GitHub\\CS\\Current\\001 Deep Learning\\project/dataset/\\helicopter\\242.jpg\n",
      "c:\\Users\\pjame\\OneDrive\\Documents\\GitHub\\CS\\Current\\001 Deep Learning\\project/dataset/\\gyroplane\\91.jpg\n",
      " c:\\Users\\pjame\\OneDrive\\Documents\\GitHub\\CS\\Current\\001 Deep Learning\\project/dataset/\\helicopter\\243.jpg\n",
      "c:\\Users\\pjame\\OneDrive\\Documents\\GitHub\\CS\\Current\\001 Deep Learning\\project/dataset/\\gyroplane\\93.jpg\n",
      " c:\\Users\\pjame\\OneDrive\\Documents\\GitHub\\CS\\Current\\001 Deep Learning\\project/dataset/\\helicopter\\244.jpg\n",
      "c:\\Users\\pjame\\OneDrive\\Documents\\GitHub\\CS\\Current\\001 Deep Learning\\project/dataset/\\gyroplane\\94.jpg\n",
      " c:\\Users\\pjame\\OneDrive\\Documents\\GitHub\\CS\\Current\\001 Deep Learning\\project/dataset/\\helicopter\\245.jpg\n",
      "c:\\Users\\pjame\\OneDrive\\Documents\\GitHub\\CS\\Current\\001 Deep Learning\\project/dataset/\\gyroplane\\95.png\n",
      " c:\\Users\\pjame\\OneDrive\\Documents\\GitHub\\CS\\Current\\001 Deep Learning\\project/dataset/\\helicopter\\246.jpg\n",
      "c:\\Users\\pjame\\OneDrive\\Documents\\GitHub\\CS\\Current\\001 Deep Learning\\project/dataset/\\gyroplane\\96.jpg\n",
      " c:\\Users\\pjame\\OneDrive\\Documents\\GitHub\\CS\\Current\\001 Deep Learning\\project/dataset/\\helicopter\\247.jpg\n",
      "c:\\Users\\pjame\\OneDrive\\Documents\\GitHub\\CS\\Current\\001 Deep Learning\\project/dataset/\\gyroplane\\97.jpg\n",
      " c:\\Users\\pjame\\OneDrive\\Documents\\GitHub\\CS\\Current\\001 Deep Learning\\project/dataset/\\helicopter\\248.jpg\n",
      "c:\\Users\\pjame\\OneDrive\\Documents\\GitHub\\CS\\Current\\001 Deep Learning\\project/dataset/\\gyroplane\\98.jpg\n",
      " c:\\Users\\pjame\\OneDrive\\Documents\\GitHub\\CS\\Current\\001 Deep Learning\\project/dataset/\\helicopter\\249.jpg\n"
     ]
    }
   ],
   "source": [
    "\n",
    "main_dir = os.getcwd() + '/dataset/'\n",
    "\n",
    "categories = ['gyroplane']\n",
    "i = 145\n",
    "for ele in categories:\n",
    "    change_dir = main_dir + '\\\\' + ele \n",
    "    print(change_dir)\n",
    "    for img in os.listdir(change_dir):\n",
    "        filename = change_dir + '\\\\' + img\n",
    "        new_filename = main_dir + '\\\\' + 'helicopter\\\\' + str(i) + '.jpg'\n",
    "        print(filename + '\\n', new_filename)\n",
    "        shutil.move(filename, new_filename)\n",
    "        i += 1\n"
   ]
  },
  {
   "cell_type": "code",
   "execution_count": 41,
   "metadata": {},
   "outputs": [],
   "source": [
    "i = 93"
   ]
  },
  {
   "cell_type": "code",
   "execution_count": 349,
   "metadata": {},
   "outputs": [],
   "source": [
    "main_dir = os.getcwd() + '/dataset/'\n",
    "category = 'fighter jet'\n",
    "new_cat = 'fighter jet'\n",
    "# i = len(os.listdir(f'{main_dir}/{new_cat}')) + 3\n",
    "i = 1\n",
    "change_dir = main_dir + '\\\\' + category \n",
    "for img in os.listdir(change_dir):\n",
    "    filename = change_dir + '\\\\' + img\n",
    "    filetype = filename.split('.')[1]\n",
    "    \n",
    "    new_filename = main_dir + '\\\\' + f'{new_cat}\\\\' + str(i) + '__.' + filetype\n",
    "    shutil.move(filename, new_filename)\n",
    "    i += 1\n"
   ]
  },
  {
   "cell_type": "code",
   "execution_count": 4,
   "metadata": {},
   "outputs": [
    {
     "name": "stdout",
     "output_type": "stream",
     "text": [
      "airship --- 551\n",
      "helicopter --- 804\n",
      "plane --- 877\n",
      "UAV --- 647\n",
      "2879 \n",
      "\n",
      "airship 0.191\n",
      "helicopter 0.279\n",
      "plane 0.305\n",
      "UAV 0.225\n"
     ]
    }
   ],
   "source": [
    "sums = 0\n",
    "for ele in os.listdir('dataset/'):\n",
    "    str1 = f'dataset/{ele}/'\n",
    "    \n",
    "    sums += len(os.listdir(str1))\n",
    "    print(f'{ele} --- {len(os.listdir(str1))}')\n",
    "\n",
    "print(sums, '\\n')\n",
    "\n",
    "for ele in os.listdir('dataset/'):\n",
    "    curr_dir = f'dataset/{ele}/'\n",
    "    length = len(os.listdir(curr_dir))\n",
    "    print(ele, '%.3f' % (length / sums))"
   ]
  },
  {
   "cell_type": "code",
   "execution_count": 9,
   "metadata": {},
   "outputs": [
    {
     "data": {
      "text/plain": [
       "0.16166666666666668"
      ]
     },
     "execution_count": 9,
     "metadata": {},
     "output_type": "execute_result"
    }
   ],
   "source": [
    "(0.191 + .10) / 1.80"
   ]
  },
  {
   "cell_type": "code",
   "execution_count": 10,
   "metadata": {},
   "outputs": [
    {
     "data": {
      "text/plain": [
       "0.43277777777777776"
      ]
     },
     "execution_count": 10,
     "metadata": {},
     "output_type": "execute_result"
    }
   ],
   "source": [
    "(0.279 + .5) / 1.8\n"
   ]
  },
  {
   "cell_type": "code",
   "execution_count": 11,
   "metadata": {},
   "outputs": [
    {
     "data": {
      "text/plain": [
       "0.28055555555555556"
      ]
     },
     "execution_count": 11,
     "metadata": {},
     "output_type": "execute_result"
    }
   ],
   "source": [
    "(0.305 + 0.2\n",
    ") / 1.8"
   ]
  },
  {
   "cell_type": "code",
   "execution_count": 12,
   "metadata": {},
   "outputs": [
    {
     "data": {
      "text/plain": [
       "0.125"
      ]
     },
     "execution_count": 12,
     "metadata": {},
     "output_type": "execute_result"
    }
   ],
   "source": [
    "(0.225) / 1.8"
   ]
  },
  {
   "cell_type": "code",
   "execution_count": 8,
   "metadata": {},
   "outputs": [
    {
     "data": {
      "text/plain": [
       "1.8000000000000003"
      ]
     },
     "execution_count": 8,
     "metadata": {},
     "output_type": "execute_result"
    }
   ],
   "source": [
    "0.291 + 0.779 + 0.505 + 0.225"
   ]
  },
  {
   "cell_type": "code",
   "execution_count": null,
   "metadata": {},
   "outputs": [],
   "source": [
    "0.262, 0.333, 0.2806, 0.125 "
   ]
  },
  {
   "cell_type": "code",
   "execution_count": 13,
   "metadata": {},
   "outputs": [
    {
     "data": {
      "image/png": "[encoded data removed]",
      "text/plain": [
       "<Figure size 640x480 with 1 Axes>"
      ]
     },
     "metadata": {},
     "output_type": "display_data"
    }
   ],
   "source": [
    "from matplotlib import pyplot as plt\n",
    "epochs = [1, 2, 3, 4, 5, 6, 7, 8, 9, 10, 11]\n",
    "train_accuracy = [30.957, 31.478, 32.058, 31.478, 31.942, 32.464, 32.348, 32.464, 32.638, 32.406, 32.0]\n",
    "validation_accuracy = [30.783, 30.435, 30.261, 30.435, 30.087, 30.261, 30.261, 30.261, 30.087, 30.261, 30.435]\n",
    "time_elapsed = [2.29, 4.54, 6.79, 9.04, 11.30, 13.55, 15.81, 18.06, 20.32, 22.57, 24.82]\n",
    "\n",
    "# epochs = [i for i in range(1,23)]\n",
    "plt.plot(epochs, train_accuracy, validation_accuracy)\n",
    "plt.xlabel('Epochs')\n",
    "plt.ylabel('Accuracy')\n",
    "plt.title('Accuracy vs. Epoch')\n",
    "plt.legend(['Training','Testing'])\n",
    "plt.ylim(30, 40)\n",
    "plt.show()\n",
    "\n"
   ]
  }
 ],
 "metadata": {
  "kernelspec": {
   "display_name": "base",
   "language": "python",
   "name": "python3"
  },
  "language_info": {
   "codemirror_mode": {
    "name": "ipython",
    "version": 3
   },
   "file_extension": ".py",
   "mimetype": "text/x-python",
   "name": "python",
   "nbconvert_exporter": "python",
   "pygments_lexer": "ipython3",
   "version": "3.10.9"
  },
  "orig_nbformat": 4
 },
 "nbformat": 4,
 "nbformat_minor": 2
}
